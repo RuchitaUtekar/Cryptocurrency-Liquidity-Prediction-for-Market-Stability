{
  "nbformat": 4,
  "nbformat_minor": 0,
  "metadata": {
    "colab": {
      "provenance": []
    },
    "kernelspec": {
      "name": "python3",
      "display_name": "Python 3"
    },
    "language_info": {
      "name": "python"
    }
  },
  "cells": [
    {
      "cell_type": "markdown",
      "source": [
        "#Cryptocurrency Liquidity Prediction for Market Stability"
      ],
      "metadata": {
        "id": "tZps9OTLQDGd"
      }
    },
    {
      "cell_type": "markdown",
      "source": [
        "Import Libraries"
      ],
      "metadata": {
        "id": "FMGJHPexjojN"
      }
    },
    {
      "cell_type": "code",
      "execution_count": null,
      "metadata": {
        "id": "w_IcMdoLN5rU"
      },
      "outputs": [],
      "source": [
        "import pandas as pd\n",
        "import numpy as np\n",
        "import matplotlib.pyplot as plt\n",
        "import seaborn as sns\n",
        "import plotly.express as px\n",
        "import warnings\n",
        "warnings.filterwarnings('ignore')"
      ]
    },
    {
      "cell_type": "code",
      "source": [
        "from google.colab import files\n",
        "uploded = files.upload()"
      ],
      "metadata": {
        "colab": {
          "base_uri": "https://localhost:8080/",
          "height": 108
        },
        "id": "L64AATn0QRsL",
        "outputId": "65ae970a-0328-460d-d7a5-f4a7efd48e59"
      },
      "execution_count": null,
      "outputs": [
        {
          "output_type": "display_data",
          "data": {
            "text/plain": [
              "<IPython.core.display.HTML object>"
            ],
            "text/html": [
              "\n",
              "     <input type=\"file\" id=\"files-6529457f-f421-4375-9301-30dc8e28d548\" name=\"files[]\" multiple disabled\n",
              "        style=\"border:none\" />\n",
              "     <output id=\"result-6529457f-f421-4375-9301-30dc8e28d548\">\n",
              "      Upload widget is only available when the cell has been executed in the\n",
              "      current browser session. Please rerun this cell to enable.\n",
              "      </output>\n",
              "      <script>// Copyright 2017 Google LLC\n",
              "//\n",
              "// Licensed under the Apache License, Version 2.0 (the \"License\");\n",
              "// you may not use this file except in compliance with the License.\n",
              "// You may obtain a copy of the License at\n",
              "//\n",
              "//      http://www.apache.org/licenses/LICENSE-2.0\n",
              "//\n",
              "// Unless required by applicable law or agreed to in writing, software\n",
              "// distributed under the License is distributed on an \"AS IS\" BASIS,\n",
              "// WITHOUT WARRANTIES OR CONDITIONS OF ANY KIND, either express or implied.\n",
              "// See the License for the specific language governing permissions and\n",
              "// limitations under the License.\n",
              "\n",
              "/**\n",
              " * @fileoverview Helpers for google.colab Python module.\n",
              " */\n",
              "(function(scope) {\n",
              "function span(text, styleAttributes = {}) {\n",
              "  const element = document.createElement('span');\n",
              "  element.textContent = text;\n",
              "  for (const key of Object.keys(styleAttributes)) {\n",
              "    element.style[key] = styleAttributes[key];\n",
              "  }\n",
              "  return element;\n",
              "}\n",
              "\n",
              "// Max number of bytes which will be uploaded at a time.\n",
              "const MAX_PAYLOAD_SIZE = 100 * 1024;\n",
              "\n",
              "function _uploadFiles(inputId, outputId) {\n",
              "  const steps = uploadFilesStep(inputId, outputId);\n",
              "  const outputElement = document.getElementById(outputId);\n",
              "  // Cache steps on the outputElement to make it available for the next call\n",
              "  // to uploadFilesContinue from Python.\n",
              "  outputElement.steps = steps;\n",
              "\n",
              "  return _uploadFilesContinue(outputId);\n",
              "}\n",
              "\n",
              "// This is roughly an async generator (not supported in the browser yet),\n",
              "// where there are multiple asynchronous steps and the Python side is going\n",
              "// to poll for completion of each step.\n",
              "// This uses a Promise to block the python side on completion of each step,\n",
              "// then passes the result of the previous step as the input to the next step.\n",
              "function _uploadFilesContinue(outputId) {\n",
              "  const outputElement = document.getElementById(outputId);\n",
              "  const steps = outputElement.steps;\n",
              "\n",
              "  const next = steps.next(outputElement.lastPromiseValue);\n",
              "  return Promise.resolve(next.value.promise).then((value) => {\n",
              "    // Cache the last promise value to make it available to the next\n",
              "    // step of the generator.\n",
              "    outputElement.lastPromiseValue = value;\n",
              "    return next.value.response;\n",
              "  });\n",
              "}\n",
              "\n",
              "/**\n",
              " * Generator function which is called between each async step of the upload\n",
              " * process.\n",
              " * @param {string} inputId Element ID of the input file picker element.\n",
              " * @param {string} outputId Element ID of the output display.\n",
              " * @return {!Iterable<!Object>} Iterable of next steps.\n",
              " */\n",
              "function* uploadFilesStep(inputId, outputId) {\n",
              "  const inputElement = document.getElementById(inputId);\n",
              "  inputElement.disabled = false;\n",
              "\n",
              "  const outputElement = document.getElementById(outputId);\n",
              "  outputElement.innerHTML = '';\n",
              "\n",
              "  const pickedPromise = new Promise((resolve) => {\n",
              "    inputElement.addEventListener('change', (e) => {\n",
              "      resolve(e.target.files);\n",
              "    });\n",
              "  });\n",
              "\n",
              "  const cancel = document.createElement('button');\n",
              "  inputElement.parentElement.appendChild(cancel);\n",
              "  cancel.textContent = 'Cancel upload';\n",
              "  const cancelPromise = new Promise((resolve) => {\n",
              "    cancel.onclick = () => {\n",
              "      resolve(null);\n",
              "    };\n",
              "  });\n",
              "\n",
              "  // Wait for the user to pick the files.\n",
              "  const files = yield {\n",
              "    promise: Promise.race([pickedPromise, cancelPromise]),\n",
              "    response: {\n",
              "      action: 'starting',\n",
              "    }\n",
              "  };\n",
              "\n",
              "  cancel.remove();\n",
              "\n",
              "  // Disable the input element since further picks are not allowed.\n",
              "  inputElement.disabled = true;\n",
              "\n",
              "  if (!files) {\n",
              "    return {\n",
              "      response: {\n",
              "        action: 'complete',\n",
              "      }\n",
              "    };\n",
              "  }\n",
              "\n",
              "  for (const file of files) {\n",
              "    const li = document.createElement('li');\n",
              "    li.append(span(file.name, {fontWeight: 'bold'}));\n",
              "    li.append(span(\n",
              "        `(${file.type || 'n/a'}) - ${file.size} bytes, ` +\n",
              "        `last modified: ${\n",
              "            file.lastModifiedDate ? file.lastModifiedDate.toLocaleDateString() :\n",
              "                                    'n/a'} - `));\n",
              "    const percent = span('0% done');\n",
              "    li.appendChild(percent);\n",
              "\n",
              "    outputElement.appendChild(li);\n",
              "\n",
              "    const fileDataPromise = new Promise((resolve) => {\n",
              "      const reader = new FileReader();\n",
              "      reader.onload = (e) => {\n",
              "        resolve(e.target.result);\n",
              "      };\n",
              "      reader.readAsArrayBuffer(file);\n",
              "    });\n",
              "    // Wait for the data to be ready.\n",
              "    let fileData = yield {\n",
              "      promise: fileDataPromise,\n",
              "      response: {\n",
              "        action: 'continue',\n",
              "      }\n",
              "    };\n",
              "\n",
              "    // Use a chunked sending to avoid message size limits. See b/62115660.\n",
              "    let position = 0;\n",
              "    do {\n",
              "      const length = Math.min(fileData.byteLength - position, MAX_PAYLOAD_SIZE);\n",
              "      const chunk = new Uint8Array(fileData, position, length);\n",
              "      position += length;\n",
              "\n",
              "      const base64 = btoa(String.fromCharCode.apply(null, chunk));\n",
              "      yield {\n",
              "        response: {\n",
              "          action: 'append',\n",
              "          file: file.name,\n",
              "          data: base64,\n",
              "        },\n",
              "      };\n",
              "\n",
              "      let percentDone = fileData.byteLength === 0 ?\n",
              "          100 :\n",
              "          Math.round((position / fileData.byteLength) * 100);\n",
              "      percent.textContent = `${percentDone}% done`;\n",
              "\n",
              "    } while (position < fileData.byteLength);\n",
              "  }\n",
              "\n",
              "  // All done.\n",
              "  yield {\n",
              "    response: {\n",
              "      action: 'complete',\n",
              "    }\n",
              "  };\n",
              "}\n",
              "\n",
              "scope.google = scope.google || {};\n",
              "scope.google.colab = scope.google.colab || {};\n",
              "scope.google.colab._files = {\n",
              "  _uploadFiles,\n",
              "  _uploadFilesContinue,\n",
              "};\n",
              "})(self);\n",
              "</script> "
            ]
          },
          "metadata": {}
        },
        {
          "output_type": "stream",
          "name": "stdout",
          "text": [
            "Saving coin_gecko_2022-03-16.csv to coin_gecko_2022-03-16.csv\n",
            "Saving coin_gecko_2022-03-17.csv to coin_gecko_2022-03-17.csv\n"
          ]
        }
      ]
    },
    {
      "cell_type": "markdown",
      "source": [
        "Loading Dataset\n"
      ],
      "metadata": {
        "id": "_Nys33H6jsuo"
      }
    },
    {
      "cell_type": "code",
      "source": [
        "# Read the first CSV file\n",
        "df1 = pd.read_csv(\"coin_gecko_2022-03-16.csv\", sep=\",\")\n",
        "\n",
        "# Read the second CSV file\n",
        "df2 = pd.read_csv(\"coin_gecko_2022-03-17.csv\", sep=\",\")\n",
        "\n",
        "# Concatenate the two DataFrames\n",
        "df = pd.concat([df1, df2], ignore_index=True)\n",
        "\n"
      ],
      "metadata": {
        "id": "1sGkIZt_Q5BI"
      },
      "execution_count": null,
      "outputs": []
    },
    {
      "cell_type": "code",
      "source": [
        "df"
      ],
      "metadata": {
        "colab": {
          "base_uri": "https://localhost:8080/",
          "height": 423
        },
        "id": "VcnKG2e1RSQD",
        "outputId": "2c28f0b6-7fa2-448f-da5c-1594adfdc008"
      },
      "execution_count": null,
      "outputs": [
        {
          "output_type": "execute_result",
          "data": {
            "text/plain": [
              "                  coin symbol         price     1h    24h     7d  \\\n",
              "0              Bitcoin    BTC  40859.460000  0.022  0.030  0.055   \n",
              "1             Ethereum    ETH   2744.410000  0.024  0.034  0.065   \n",
              "2               Tether   USDT      1.000000 -0.001 -0.001  0.000   \n",
              "3                  BNB    BNB    383.430000  0.018  0.028  0.004   \n",
              "4             USD Coin   USDC      0.999874 -0.001  0.000  0.000   \n",
              "..                 ...    ...           ...    ...    ...    ...   \n",
              "995            IRISnet   IRIS      0.055426  0.016 -0.003 -0.088   \n",
              "996  Circuits of Value  COVAL      0.037961  0.002 -0.012 -0.054   \n",
              "997         ARPA Chain   ARPA      0.069003  0.000  0.008 -0.037   \n",
              "998          SuperRare   RARE      0.464613 -0.003  0.014  0.019   \n",
              "999         Verus Coin   VRSC      0.999387  0.053  0.061 -0.122   \n",
              "\n",
              "       24h_volume       mkt_cap       date  \n",
              "0    3.539076e+10  7.709910e+11  3/16/2022  \n",
              "1    1.974870e+10  3.271040e+11  3/16/2022  \n",
              "2    5.793497e+10  7.996516e+10  3/16/2022  \n",
              "3    1.395854e+09  6.404382e+10  3/16/2022  \n",
              "4    3.872274e+09  5.222214e+10  3/16/2022  \n",
              "..            ...           ...        ...  \n",
              "995  2.976839e+06  6.809024e+07  3/17/2022  \n",
              "996  3.667870e+05  6.782627e+07  3/17/2022  \n",
              "997  1.363376e+07  6.776284e+07  3/17/2022  \n",
              "998  9.398219e+06  6.738822e+07  3/17/2022  \n",
              "999  2.027507e+04  6.731896e+07  3/17/2022  \n",
              "\n",
              "[1000 rows x 9 columns]"
            ],
            "text/html": [
              "\n",
              "  <div id=\"df-ca4226f7-acbf-4aec-bc89-7eb39a267405\" class=\"colab-df-container\">\n",
              "    <div>\n",
              "<style scoped>\n",
              "    .dataframe tbody tr th:only-of-type {\n",
              "        vertical-align: middle;\n",
              "    }\n",
              "\n",
              "    .dataframe tbody tr th {\n",
              "        vertical-align: top;\n",
              "    }\n",
              "\n",
              "    .dataframe thead th {\n",
              "        text-align: right;\n",
              "    }\n",
              "</style>\n",
              "<table border=\"1\" class=\"dataframe\">\n",
              "  <thead>\n",
              "    <tr style=\"text-align: right;\">\n",
              "      <th></th>\n",
              "      <th>coin</th>\n",
              "      <th>symbol</th>\n",
              "      <th>price</th>\n",
              "      <th>1h</th>\n",
              "      <th>24h</th>\n",
              "      <th>7d</th>\n",
              "      <th>24h_volume</th>\n",
              "      <th>mkt_cap</th>\n",
              "      <th>date</th>\n",
              "    </tr>\n",
              "  </thead>\n",
              "  <tbody>\n",
              "    <tr>\n",
              "      <th>0</th>\n",
              "      <td>Bitcoin</td>\n",
              "      <td>BTC</td>\n",
              "      <td>40859.460000</td>\n",
              "      <td>0.022</td>\n",
              "      <td>0.030</td>\n",
              "      <td>0.055</td>\n",
              "      <td>3.539076e+10</td>\n",
              "      <td>7.709910e+11</td>\n",
              "      <td>3/16/2022</td>\n",
              "    </tr>\n",
              "    <tr>\n",
              "      <th>1</th>\n",
              "      <td>Ethereum</td>\n",
              "      <td>ETH</td>\n",
              "      <td>2744.410000</td>\n",
              "      <td>0.024</td>\n",
              "      <td>0.034</td>\n",
              "      <td>0.065</td>\n",
              "      <td>1.974870e+10</td>\n",
              "      <td>3.271040e+11</td>\n",
              "      <td>3/16/2022</td>\n",
              "    </tr>\n",
              "    <tr>\n",
              "      <th>2</th>\n",
              "      <td>Tether</td>\n",
              "      <td>USDT</td>\n",
              "      <td>1.000000</td>\n",
              "      <td>-0.001</td>\n",
              "      <td>-0.001</td>\n",
              "      <td>0.000</td>\n",
              "      <td>5.793497e+10</td>\n",
              "      <td>7.996516e+10</td>\n",
              "      <td>3/16/2022</td>\n",
              "    </tr>\n",
              "    <tr>\n",
              "      <th>3</th>\n",
              "      <td>BNB</td>\n",
              "      <td>BNB</td>\n",
              "      <td>383.430000</td>\n",
              "      <td>0.018</td>\n",
              "      <td>0.028</td>\n",
              "      <td>0.004</td>\n",
              "      <td>1.395854e+09</td>\n",
              "      <td>6.404382e+10</td>\n",
              "      <td>3/16/2022</td>\n",
              "    </tr>\n",
              "    <tr>\n",
              "      <th>4</th>\n",
              "      <td>USD Coin</td>\n",
              "      <td>USDC</td>\n",
              "      <td>0.999874</td>\n",
              "      <td>-0.001</td>\n",
              "      <td>0.000</td>\n",
              "      <td>0.000</td>\n",
              "      <td>3.872274e+09</td>\n",
              "      <td>5.222214e+10</td>\n",
              "      <td>3/16/2022</td>\n",
              "    </tr>\n",
              "    <tr>\n",
              "      <th>...</th>\n",
              "      <td>...</td>\n",
              "      <td>...</td>\n",
              "      <td>...</td>\n",
              "      <td>...</td>\n",
              "      <td>...</td>\n",
              "      <td>...</td>\n",
              "      <td>...</td>\n",
              "      <td>...</td>\n",
              "      <td>...</td>\n",
              "    </tr>\n",
              "    <tr>\n",
              "      <th>995</th>\n",
              "      <td>IRISnet</td>\n",
              "      <td>IRIS</td>\n",
              "      <td>0.055426</td>\n",
              "      <td>0.016</td>\n",
              "      <td>-0.003</td>\n",
              "      <td>-0.088</td>\n",
              "      <td>2.976839e+06</td>\n",
              "      <td>6.809024e+07</td>\n",
              "      <td>3/17/2022</td>\n",
              "    </tr>\n",
              "    <tr>\n",
              "      <th>996</th>\n",
              "      <td>Circuits of Value</td>\n",
              "      <td>COVAL</td>\n",
              "      <td>0.037961</td>\n",
              "      <td>0.002</td>\n",
              "      <td>-0.012</td>\n",
              "      <td>-0.054</td>\n",
              "      <td>3.667870e+05</td>\n",
              "      <td>6.782627e+07</td>\n",
              "      <td>3/17/2022</td>\n",
              "    </tr>\n",
              "    <tr>\n",
              "      <th>997</th>\n",
              "      <td>ARPA Chain</td>\n",
              "      <td>ARPA</td>\n",
              "      <td>0.069003</td>\n",
              "      <td>0.000</td>\n",
              "      <td>0.008</td>\n",
              "      <td>-0.037</td>\n",
              "      <td>1.363376e+07</td>\n",
              "      <td>6.776284e+07</td>\n",
              "      <td>3/17/2022</td>\n",
              "    </tr>\n",
              "    <tr>\n",
              "      <th>998</th>\n",
              "      <td>SuperRare</td>\n",
              "      <td>RARE</td>\n",
              "      <td>0.464613</td>\n",
              "      <td>-0.003</td>\n",
              "      <td>0.014</td>\n",
              "      <td>0.019</td>\n",
              "      <td>9.398219e+06</td>\n",
              "      <td>6.738822e+07</td>\n",
              "      <td>3/17/2022</td>\n",
              "    </tr>\n",
              "    <tr>\n",
              "      <th>999</th>\n",
              "      <td>Verus Coin</td>\n",
              "      <td>VRSC</td>\n",
              "      <td>0.999387</td>\n",
              "      <td>0.053</td>\n",
              "      <td>0.061</td>\n",
              "      <td>-0.122</td>\n",
              "      <td>2.027507e+04</td>\n",
              "      <td>6.731896e+07</td>\n",
              "      <td>3/17/2022</td>\n",
              "    </tr>\n",
              "  </tbody>\n",
              "</table>\n",
              "<p>1000 rows × 9 columns</p>\n",
              "</div>\n",
              "    <div class=\"colab-df-buttons\">\n",
              "\n",
              "  <div class=\"colab-df-container\">\n",
              "    <button class=\"colab-df-convert\" onclick=\"convertToInteractive('df-ca4226f7-acbf-4aec-bc89-7eb39a267405')\"\n",
              "            title=\"Convert this dataframe to an interactive table.\"\n",
              "            style=\"display:none;\">\n",
              "\n",
              "  <svg xmlns=\"http://www.w3.org/2000/svg\" height=\"24px\" viewBox=\"0 -960 960 960\">\n",
              "    <path d=\"M120-120v-720h720v720H120Zm60-500h600v-160H180v160Zm220 220h160v-160H400v160Zm0 220h160v-160H400v160ZM180-400h160v-160H180v160Zm440 0h160v-160H620v160ZM180-180h160v-160H180v160Zm440 0h160v-160H620v160Z\"/>\n",
              "  </svg>\n",
              "    </button>\n",
              "\n",
              "  <style>\n",
              "    .colab-df-container {\n",
              "      display:flex;\n",
              "      gap: 12px;\n",
              "    }\n",
              "\n",
              "    .colab-df-convert {\n",
              "      background-color: #E8F0FE;\n",
              "      border: none;\n",
              "      border-radius: 50%;\n",
              "      cursor: pointer;\n",
              "      display: none;\n",
              "      fill: #1967D2;\n",
              "      height: 32px;\n",
              "      padding: 0 0 0 0;\n",
              "      width: 32px;\n",
              "    }\n",
              "\n",
              "    .colab-df-convert:hover {\n",
              "      background-color: #E2EBFA;\n",
              "      box-shadow: 0px 1px 2px rgba(60, 64, 67, 0.3), 0px 1px 3px 1px rgba(60, 64, 67, 0.15);\n",
              "      fill: #174EA6;\n",
              "    }\n",
              "\n",
              "    .colab-df-buttons div {\n",
              "      margin-bottom: 4px;\n",
              "    }\n",
              "\n",
              "    [theme=dark] .colab-df-convert {\n",
              "      background-color: #3B4455;\n",
              "      fill: #D2E3FC;\n",
              "    }\n",
              "\n",
              "    [theme=dark] .colab-df-convert:hover {\n",
              "      background-color: #434B5C;\n",
              "      box-shadow: 0px 1px 3px 1px rgba(0, 0, 0, 0.15);\n",
              "      filter: drop-shadow(0px 1px 2px rgba(0, 0, 0, 0.3));\n",
              "      fill: #FFFFFF;\n",
              "    }\n",
              "  </style>\n",
              "\n",
              "    <script>\n",
              "      const buttonEl =\n",
              "        document.querySelector('#df-ca4226f7-acbf-4aec-bc89-7eb39a267405 button.colab-df-convert');\n",
              "      buttonEl.style.display =\n",
              "        google.colab.kernel.accessAllowed ? 'block' : 'none';\n",
              "\n",
              "      async function convertToInteractive(key) {\n",
              "        const element = document.querySelector('#df-ca4226f7-acbf-4aec-bc89-7eb39a267405');\n",
              "        const dataTable =\n",
              "          await google.colab.kernel.invokeFunction('convertToInteractive',\n",
              "                                                    [key], {});\n",
              "        if (!dataTable) return;\n",
              "\n",
              "        const docLinkHtml = 'Like what you see? Visit the ' +\n",
              "          '<a target=\"_blank\" href=https://colab.research.google.com/notebooks/data_table.ipynb>data table notebook</a>'\n",
              "          + ' to learn more about interactive tables.';\n",
              "        element.innerHTML = '';\n",
              "        dataTable['output_type'] = 'display_data';\n",
              "        await google.colab.output.renderOutput(dataTable, element);\n",
              "        const docLink = document.createElement('div');\n",
              "        docLink.innerHTML = docLinkHtml;\n",
              "        element.appendChild(docLink);\n",
              "      }\n",
              "    </script>\n",
              "  </div>\n",
              "\n",
              "\n",
              "    <div id=\"df-acc66140-84fb-4568-b337-b865b5ac38a1\">\n",
              "      <button class=\"colab-df-quickchart\" onclick=\"quickchart('df-acc66140-84fb-4568-b337-b865b5ac38a1')\"\n",
              "                title=\"Suggest charts\"\n",
              "                style=\"display:none;\">\n",
              "\n",
              "<svg xmlns=\"http://www.w3.org/2000/svg\" height=\"24px\"viewBox=\"0 0 24 24\"\n",
              "     width=\"24px\">\n",
              "    <g>\n",
              "        <path d=\"M19 3H5c-1.1 0-2 .9-2 2v14c0 1.1.9 2 2 2h14c1.1 0 2-.9 2-2V5c0-1.1-.9-2-2-2zM9 17H7v-7h2v7zm4 0h-2V7h2v10zm4 0h-2v-4h2v4z\"/>\n",
              "    </g>\n",
              "</svg>\n",
              "      </button>\n",
              "\n",
              "<style>\n",
              "  .colab-df-quickchart {\n",
              "      --bg-color: #E8F0FE;\n",
              "      --fill-color: #1967D2;\n",
              "      --hover-bg-color: #E2EBFA;\n",
              "      --hover-fill-color: #174EA6;\n",
              "      --disabled-fill-color: #AAA;\n",
              "      --disabled-bg-color: #DDD;\n",
              "  }\n",
              "\n",
              "  [theme=dark] .colab-df-quickchart {\n",
              "      --bg-color: #3B4455;\n",
              "      --fill-color: #D2E3FC;\n",
              "      --hover-bg-color: #434B5C;\n",
              "      --hover-fill-color: #FFFFFF;\n",
              "      --disabled-bg-color: #3B4455;\n",
              "      --disabled-fill-color: #666;\n",
              "  }\n",
              "\n",
              "  .colab-df-quickchart {\n",
              "    background-color: var(--bg-color);\n",
              "    border: none;\n",
              "    border-radius: 50%;\n",
              "    cursor: pointer;\n",
              "    display: none;\n",
              "    fill: var(--fill-color);\n",
              "    height: 32px;\n",
              "    padding: 0;\n",
              "    width: 32px;\n",
              "  }\n",
              "\n",
              "  .colab-df-quickchart:hover {\n",
              "    background-color: var(--hover-bg-color);\n",
              "    box-shadow: 0 1px 2px rgba(60, 64, 67, 0.3), 0 1px 3px 1px rgba(60, 64, 67, 0.15);\n",
              "    fill: var(--button-hover-fill-color);\n",
              "  }\n",
              "\n",
              "  .colab-df-quickchart-complete:disabled,\n",
              "  .colab-df-quickchart-complete:disabled:hover {\n",
              "    background-color: var(--disabled-bg-color);\n",
              "    fill: var(--disabled-fill-color);\n",
              "    box-shadow: none;\n",
              "  }\n",
              "\n",
              "  .colab-df-spinner {\n",
              "    border: 2px solid var(--fill-color);\n",
              "    border-color: transparent;\n",
              "    border-bottom-color: var(--fill-color);\n",
              "    animation:\n",
              "      spin 1s steps(1) infinite;\n",
              "  }\n",
              "\n",
              "  @keyframes spin {\n",
              "    0% {\n",
              "      border-color: transparent;\n",
              "      border-bottom-color: var(--fill-color);\n",
              "      border-left-color: var(--fill-color);\n",
              "    }\n",
              "    20% {\n",
              "      border-color: transparent;\n",
              "      border-left-color: var(--fill-color);\n",
              "      border-top-color: var(--fill-color);\n",
              "    }\n",
              "    30% {\n",
              "      border-color: transparent;\n",
              "      border-left-color: var(--fill-color);\n",
              "      border-top-color: var(--fill-color);\n",
              "      border-right-color: var(--fill-color);\n",
              "    }\n",
              "    40% {\n",
              "      border-color: transparent;\n",
              "      border-right-color: var(--fill-color);\n",
              "      border-top-color: var(--fill-color);\n",
              "    }\n",
              "    60% {\n",
              "      border-color: transparent;\n",
              "      border-right-color: var(--fill-color);\n",
              "    }\n",
              "    80% {\n",
              "      border-color: transparent;\n",
              "      border-right-color: var(--fill-color);\n",
              "      border-bottom-color: var(--fill-color);\n",
              "    }\n",
              "    90% {\n",
              "      border-color: transparent;\n",
              "      border-bottom-color: var(--fill-color);\n",
              "    }\n",
              "  }\n",
              "</style>\n",
              "\n",
              "      <script>\n",
              "        async function quickchart(key) {\n",
              "          const quickchartButtonEl =\n",
              "            document.querySelector('#' + key + ' button');\n",
              "          quickchartButtonEl.disabled = true;  // To prevent multiple clicks.\n",
              "          quickchartButtonEl.classList.add('colab-df-spinner');\n",
              "          try {\n",
              "            const charts = await google.colab.kernel.invokeFunction(\n",
              "                'suggestCharts', [key], {});\n",
              "          } catch (error) {\n",
              "            console.error('Error during call to suggestCharts:', error);\n",
              "          }\n",
              "          quickchartButtonEl.classList.remove('colab-df-spinner');\n",
              "          quickchartButtonEl.classList.add('colab-df-quickchart-complete');\n",
              "        }\n",
              "        (() => {\n",
              "          let quickchartButtonEl =\n",
              "            document.querySelector('#df-acc66140-84fb-4568-b337-b865b5ac38a1 button');\n",
              "          quickchartButtonEl.style.display =\n",
              "            google.colab.kernel.accessAllowed ? 'block' : 'none';\n",
              "        })();\n",
              "      </script>\n",
              "    </div>\n",
              "\n",
              "  <div id=\"id_7e25af0c-2d3a-45c9-a272-5afc97bd847a\">\n",
              "    <style>\n",
              "      .colab-df-generate {\n",
              "        background-color: #E8F0FE;\n",
              "        border: none;\n",
              "        border-radius: 50%;\n",
              "        cursor: pointer;\n",
              "        display: none;\n",
              "        fill: #1967D2;\n",
              "        height: 32px;\n",
              "        padding: 0 0 0 0;\n",
              "        width: 32px;\n",
              "      }\n",
              "\n",
              "      .colab-df-generate:hover {\n",
              "        background-color: #E2EBFA;\n",
              "        box-shadow: 0px 1px 2px rgba(60, 64, 67, 0.3), 0px 1px 3px 1px rgba(60, 64, 67, 0.15);\n",
              "        fill: #174EA6;\n",
              "      }\n",
              "\n",
              "      [theme=dark] .colab-df-generate {\n",
              "        background-color: #3B4455;\n",
              "        fill: #D2E3FC;\n",
              "      }\n",
              "\n",
              "      [theme=dark] .colab-df-generate:hover {\n",
              "        background-color: #434B5C;\n",
              "        box-shadow: 0px 1px 3px 1px rgba(0, 0, 0, 0.15);\n",
              "        filter: drop-shadow(0px 1px 2px rgba(0, 0, 0, 0.3));\n",
              "        fill: #FFFFFF;\n",
              "      }\n",
              "    </style>\n",
              "    <button class=\"colab-df-generate\" onclick=\"generateWithVariable('df')\"\n",
              "            title=\"Generate code using this dataframe.\"\n",
              "            style=\"display:none;\">\n",
              "\n",
              "  <svg xmlns=\"http://www.w3.org/2000/svg\" height=\"24px\"viewBox=\"0 0 24 24\"\n",
              "       width=\"24px\">\n",
              "    <path d=\"M7,19H8.4L18.45,9,17,7.55,7,17.6ZM5,21V16.75L18.45,3.32a2,2,0,0,1,2.83,0l1.4,1.43a1.91,1.91,0,0,1,.58,1.4,1.91,1.91,0,0,1-.58,1.4L9.25,21ZM18.45,9,17,7.55Zm-12,3A5.31,5.31,0,0,0,4.9,8.1,5.31,5.31,0,0,0,1,6.5,5.31,5.31,0,0,0,4.9,4.9,5.31,5.31,0,0,0,6.5,1,5.31,5.31,0,0,0,8.1,4.9,5.31,5.31,0,0,0,12,6.5,5.46,5.46,0,0,0,6.5,12Z\"/>\n",
              "  </svg>\n",
              "    </button>\n",
              "    <script>\n",
              "      (() => {\n",
              "      const buttonEl =\n",
              "        document.querySelector('#id_7e25af0c-2d3a-45c9-a272-5afc97bd847a button.colab-df-generate');\n",
              "      buttonEl.style.display =\n",
              "        google.colab.kernel.accessAllowed ? 'block' : 'none';\n",
              "\n",
              "      buttonEl.onclick = () => {\n",
              "        google.colab.notebook.generateWithVariable('df');\n",
              "      }\n",
              "      })();\n",
              "    </script>\n",
              "  </div>\n",
              "\n",
              "    </div>\n",
              "  </div>\n"
            ],
            "application/vnd.google.colaboratory.intrinsic+json": {
              "type": "dataframe",
              "variable_name": "df",
              "summary": "{\n  \"name\": \"df\",\n  \"rows\": 1000,\n  \"fields\": [\n    {\n      \"column\": \"coin\",\n      \"properties\": {\n        \"dtype\": \"string\",\n        \"num_unique_values\": 506,\n        \"samples\": [\n          \"Polymath\",\n          \"Conflux\",\n          \"cVault.finance\"\n        ],\n        \"semantic_type\": \"\",\n        \"description\": \"\"\n      }\n    },\n    {\n      \"column\": \"symbol\",\n      \"properties\": {\n        \"dtype\": \"string\",\n        \"num_unique_values\": 503,\n        \"samples\": [\n          \"KNCL\",\n          \"BSV\",\n          \"RGT\"\n        ],\n        \"semantic_type\": \"\",\n        \"description\": \"\"\n      }\n    },\n    {\n      \"column\": \"price\",\n      \"properties\": {\n        \"dtype\": \"number\",\n        \"std\": 4584.654569286194,\n        \"min\": 1.48e-09,\n        \"max\": 41217.27,\n        \"num_unique_values\": 893,\n        \"samples\": [\n          4.6,\n          3.43,\n          33.62\n        ],\n        \"semantic_type\": \"\",\n        \"description\": \"\"\n      }\n    },\n    {\n      \"column\": \"1h\",\n      \"properties\": {\n        \"dtype\": \"number\",\n        \"std\": 0.026934299579606746,\n        \"min\": -0.704,\n        \"max\": 0.095,\n        \"num_unique_values\": 88,\n        \"samples\": [\n          -0.012,\n          0.022,\n          0.009\n        ],\n        \"semantic_type\": \"\",\n        \"description\": \"\"\n      }\n    },\n    {\n      \"column\": \"24h\",\n      \"properties\": {\n        \"dtype\": \"number\",\n        \"std\": 0.05930299452870922,\n        \"min\": -0.646,\n        \"max\": 0.577,\n        \"num_unique_values\": 195,\n        \"samples\": [\n          -0.047,\n          0.013,\n          -0.06\n        ],\n        \"semantic_type\": \"\",\n        \"description\": \"\"\n      }\n    },\n    {\n      \"column\": \"7d\",\n      \"properties\": {\n        \"dtype\": \"number\",\n        \"std\": 0.22978126441060878,\n        \"min\": -0.558,\n        \"max\": 4.608,\n        \"num_unique_values\": 339,\n        \"samples\": [\n          -0.123,\n          -0.086,\n          -0.047\n        ],\n        \"semantic_type\": \"\",\n        \"description\": \"\"\n      }\n    },\n    {\n      \"column\": \"24h_volume\",\n      \"properties\": {\n        \"dtype\": \"number\",\n        \"std\": 2769907831.042841,\n        \"min\": 0.0,\n        \"max\": 57934969077.0,\n        \"num_unique_values\": 992,\n        \"samples\": [\n          42667.91,\n          4643750.0,\n          3569816487.0\n        ],\n        \"semantic_type\": \"\",\n        \"description\": \"\"\n      }\n    },\n    {\n      \"column\": \"mkt_cap\",\n      \"properties\": {\n        \"dtype\": \"number\",\n        \"std\": 38037803622.54082,\n        \"min\": 65770433.0,\n        \"max\": 776077000000.0,\n        \"num_unique_values\": 988,\n        \"samples\": [\n          257245207.0,\n          137522294.0,\n          776077000000.0\n        ],\n        \"semantic_type\": \"\",\n        \"description\": \"\"\n      }\n    },\n    {\n      \"column\": \"date\",\n      \"properties\": {\n        \"dtype\": \"object\",\n        \"num_unique_values\": 2,\n        \"samples\": [\n          \"3/17/2022\",\n          \"3/16/2022\"\n        ],\n        \"semantic_type\": \"\",\n        \"description\": \"\"\n      }\n    }\n  ]\n}"
            }
          },
          "metadata": {},
          "execution_count": 11
        }
      ]
    },
    {
      "cell_type": "code",
      "source": [
        "# Display the first few rows of the combined DataFrame\n",
        "print(df.head())"
      ],
      "metadata": {
        "colab": {
          "base_uri": "https://localhost:8080/"
        },
        "id": "RibTEN_oRVgl",
        "outputId": "5d1e4177-ff12-4568-b5f8-43357c3eae14"
      },
      "execution_count": null,
      "outputs": [
        {
          "output_type": "stream",
          "name": "stdout",
          "text": [
            "       coin symbol         price     1h    24h     7d    24h_volume  \\\n",
            "0   Bitcoin    BTC  40859.460000  0.022  0.030  0.055  3.539076e+10   \n",
            "1  Ethereum    ETH   2744.410000  0.024  0.034  0.065  1.974870e+10   \n",
            "2    Tether   USDT      1.000000 -0.001 -0.001  0.000  5.793497e+10   \n",
            "3       BNB    BNB    383.430000  0.018  0.028  0.004  1.395854e+09   \n",
            "4  USD Coin   USDC      0.999874 -0.001  0.000  0.000  3.872274e+09   \n",
            "\n",
            "        mkt_cap       date  \n",
            "0  7.709910e+11  3/16/2022  \n",
            "1  3.271040e+11  3/16/2022  \n",
            "2  7.996516e+10  3/16/2022  \n",
            "3  6.404382e+10  3/16/2022  \n",
            "4  5.222214e+10  3/16/2022  \n"
          ]
        }
      ]
    },
    {
      "cell_type": "code",
      "source": [
        "df.dtypes"
      ],
      "metadata": {
        "colab": {
          "base_uri": "https://localhost:8080/",
          "height": 366
        },
        "id": "7dkpvOS1RgyG",
        "outputId": "28d9e47f-fa9d-4a63-b080-233f41fa61af"
      },
      "execution_count": null,
      "outputs": [
        {
          "output_type": "execute_result",
          "data": {
            "text/plain": [
              "coin           object\n",
              "symbol         object\n",
              "price         float64\n",
              "1h            float64\n",
              "24h           float64\n",
              "7d            float64\n",
              "24h_volume    float64\n",
              "mkt_cap       float64\n",
              "date           object\n",
              "dtype: object"
            ],
            "text/html": [
              "<div>\n",
              "<style scoped>\n",
              "    .dataframe tbody tr th:only-of-type {\n",
              "        vertical-align: middle;\n",
              "    }\n",
              "\n",
              "    .dataframe tbody tr th {\n",
              "        vertical-align: top;\n",
              "    }\n",
              "\n",
              "    .dataframe thead th {\n",
              "        text-align: right;\n",
              "    }\n",
              "</style>\n",
              "<table border=\"1\" class=\"dataframe\">\n",
              "  <thead>\n",
              "    <tr style=\"text-align: right;\">\n",
              "      <th></th>\n",
              "      <th>0</th>\n",
              "    </tr>\n",
              "  </thead>\n",
              "  <tbody>\n",
              "    <tr>\n",
              "      <th>coin</th>\n",
              "      <td>object</td>\n",
              "    </tr>\n",
              "    <tr>\n",
              "      <th>symbol</th>\n",
              "      <td>object</td>\n",
              "    </tr>\n",
              "    <tr>\n",
              "      <th>price</th>\n",
              "      <td>float64</td>\n",
              "    </tr>\n",
              "    <tr>\n",
              "      <th>1h</th>\n",
              "      <td>float64</td>\n",
              "    </tr>\n",
              "    <tr>\n",
              "      <th>24h</th>\n",
              "      <td>float64</td>\n",
              "    </tr>\n",
              "    <tr>\n",
              "      <th>7d</th>\n",
              "      <td>float64</td>\n",
              "    </tr>\n",
              "    <tr>\n",
              "      <th>24h_volume</th>\n",
              "      <td>float64</td>\n",
              "    </tr>\n",
              "    <tr>\n",
              "      <th>mkt_cap</th>\n",
              "      <td>float64</td>\n",
              "    </tr>\n",
              "    <tr>\n",
              "      <th>date</th>\n",
              "      <td>object</td>\n",
              "    </tr>\n",
              "  </tbody>\n",
              "</table>\n",
              "</div><br><label><b>dtype:</b> object</label>"
            ]
          },
          "metadata": {},
          "execution_count": 13
        }
      ]
    },
    {
      "cell_type": "code",
      "source": [
        "df.shape"
      ],
      "metadata": {
        "colab": {
          "base_uri": "https://localhost:8080/"
        },
        "id": "Nm6tIwDbRkMB",
        "outputId": "89bed72d-3c54-4d02-bf7d-a6100cf4cda5"
      },
      "execution_count": null,
      "outputs": [
        {
          "output_type": "execute_result",
          "data": {
            "text/plain": [
              "(1000, 9)"
            ]
          },
          "metadata": {},
          "execution_count": 14
        }
      ]
    },
    {
      "cell_type": "code",
      "source": [
        "# Display summary statistics for a dataframe\n",
        "df.describe()"
      ],
      "metadata": {
        "colab": {
          "base_uri": "https://localhost:8080/",
          "height": 300
        },
        "id": "eGSVC0vBT2dG",
        "outputId": "65bd9385-dda9-47fb-a479-9218b594210d"
      },
      "execution_count": null,
      "outputs": [
        {
          "output_type": "execute_result",
          "data": {
            "text/plain": [
              "              price          1h         24h          7d    24h_volume  \\\n",
              "count  1.000000e+03  993.000000  993.000000  992.000000  9.930000e+02   \n",
              "mean   6.561060e+02    0.009723    0.023737    0.023558  2.893109e+08   \n",
              "std    4.584655e+03    0.026934    0.059303    0.229781  2.769908e+09   \n",
              "min    1.480000e-09   -0.704000   -0.646000   -0.558000  0.000000e+00   \n",
              "25%    1.940547e-01    0.001000    0.001000   -0.041000  1.766976e+06   \n",
              "50%    1.095000e+00    0.006000    0.016000   -0.000500  8.343005e+06   \n",
              "75%    7.232500e+00    0.019000    0.035000    0.037000  4.003652e+07   \n",
              "max    4.121727e+04    0.095000    0.577000    4.608000  5.793497e+10   \n",
              "\n",
              "            mkt_cap  \n",
              "count  1.000000e+03  \n",
              "mean   3.755303e+09  \n",
              "std    3.803780e+10  \n",
              "min    6.577043e+07  \n",
              "25%    1.157776e+08  \n",
              "50%    2.120036e+08  \n",
              "75%    5.948436e+08  \n",
              "max    7.760770e+11  "
            ],
            "text/html": [
              "\n",
              "  <div id=\"df-fd223557-7fc2-44de-8e76-39eb89be71cd\" class=\"colab-df-container\">\n",
              "    <div>\n",
              "<style scoped>\n",
              "    .dataframe tbody tr th:only-of-type {\n",
              "        vertical-align: middle;\n",
              "    }\n",
              "\n",
              "    .dataframe tbody tr th {\n",
              "        vertical-align: top;\n",
              "    }\n",
              "\n",
              "    .dataframe thead th {\n",
              "        text-align: right;\n",
              "    }\n",
              "</style>\n",
              "<table border=\"1\" class=\"dataframe\">\n",
              "  <thead>\n",
              "    <tr style=\"text-align: right;\">\n",
              "      <th></th>\n",
              "      <th>price</th>\n",
              "      <th>1h</th>\n",
              "      <th>24h</th>\n",
              "      <th>7d</th>\n",
              "      <th>24h_volume</th>\n",
              "      <th>mkt_cap</th>\n",
              "    </tr>\n",
              "  </thead>\n",
              "  <tbody>\n",
              "    <tr>\n",
              "      <th>count</th>\n",
              "      <td>1.000000e+03</td>\n",
              "      <td>993.000000</td>\n",
              "      <td>993.000000</td>\n",
              "      <td>992.000000</td>\n",
              "      <td>9.930000e+02</td>\n",
              "      <td>1.000000e+03</td>\n",
              "    </tr>\n",
              "    <tr>\n",
              "      <th>mean</th>\n",
              "      <td>6.561060e+02</td>\n",
              "      <td>0.009723</td>\n",
              "      <td>0.023737</td>\n",
              "      <td>0.023558</td>\n",
              "      <td>2.893109e+08</td>\n",
              "      <td>3.755303e+09</td>\n",
              "    </tr>\n",
              "    <tr>\n",
              "      <th>std</th>\n",
              "      <td>4.584655e+03</td>\n",
              "      <td>0.026934</td>\n",
              "      <td>0.059303</td>\n",
              "      <td>0.229781</td>\n",
              "      <td>2.769908e+09</td>\n",
              "      <td>3.803780e+10</td>\n",
              "    </tr>\n",
              "    <tr>\n",
              "      <th>min</th>\n",
              "      <td>1.480000e-09</td>\n",
              "      <td>-0.704000</td>\n",
              "      <td>-0.646000</td>\n",
              "      <td>-0.558000</td>\n",
              "      <td>0.000000e+00</td>\n",
              "      <td>6.577043e+07</td>\n",
              "    </tr>\n",
              "    <tr>\n",
              "      <th>25%</th>\n",
              "      <td>1.940547e-01</td>\n",
              "      <td>0.001000</td>\n",
              "      <td>0.001000</td>\n",
              "      <td>-0.041000</td>\n",
              "      <td>1.766976e+06</td>\n",
              "      <td>1.157776e+08</td>\n",
              "    </tr>\n",
              "    <tr>\n",
              "      <th>50%</th>\n",
              "      <td>1.095000e+00</td>\n",
              "      <td>0.006000</td>\n",
              "      <td>0.016000</td>\n",
              "      <td>-0.000500</td>\n",
              "      <td>8.343005e+06</td>\n",
              "      <td>2.120036e+08</td>\n",
              "    </tr>\n",
              "    <tr>\n",
              "      <th>75%</th>\n",
              "      <td>7.232500e+00</td>\n",
              "      <td>0.019000</td>\n",
              "      <td>0.035000</td>\n",
              "      <td>0.037000</td>\n",
              "      <td>4.003652e+07</td>\n",
              "      <td>5.948436e+08</td>\n",
              "    </tr>\n",
              "    <tr>\n",
              "      <th>max</th>\n",
              "      <td>4.121727e+04</td>\n",
              "      <td>0.095000</td>\n",
              "      <td>0.577000</td>\n",
              "      <td>4.608000</td>\n",
              "      <td>5.793497e+10</td>\n",
              "      <td>7.760770e+11</td>\n",
              "    </tr>\n",
              "  </tbody>\n",
              "</table>\n",
              "</div>\n",
              "    <div class=\"colab-df-buttons\">\n",
              "\n",
              "  <div class=\"colab-df-container\">\n",
              "    <button class=\"colab-df-convert\" onclick=\"convertToInteractive('df-fd223557-7fc2-44de-8e76-39eb89be71cd')\"\n",
              "            title=\"Convert this dataframe to an interactive table.\"\n",
              "            style=\"display:none;\">\n",
              "\n",
              "  <svg xmlns=\"http://www.w3.org/2000/svg\" height=\"24px\" viewBox=\"0 -960 960 960\">\n",
              "    <path d=\"M120-120v-720h720v720H120Zm60-500h600v-160H180v160Zm220 220h160v-160H400v160Zm0 220h160v-160H400v160ZM180-400h160v-160H180v160Zm440 0h160v-160H620v160ZM180-180h160v-160H180v160Zm440 0h160v-160H620v160Z\"/>\n",
              "  </svg>\n",
              "    </button>\n",
              "\n",
              "  <style>\n",
              "    .colab-df-container {\n",
              "      display:flex;\n",
              "      gap: 12px;\n",
              "    }\n",
              "\n",
              "    .colab-df-convert {\n",
              "      background-color: #E8F0FE;\n",
              "      border: none;\n",
              "      border-radius: 50%;\n",
              "      cursor: pointer;\n",
              "      display: none;\n",
              "      fill: #1967D2;\n",
              "      height: 32px;\n",
              "      padding: 0 0 0 0;\n",
              "      width: 32px;\n",
              "    }\n",
              "\n",
              "    .colab-df-convert:hover {\n",
              "      background-color: #E2EBFA;\n",
              "      box-shadow: 0px 1px 2px rgba(60, 64, 67, 0.3), 0px 1px 3px 1px rgba(60, 64, 67, 0.15);\n",
              "      fill: #174EA6;\n",
              "    }\n",
              "\n",
              "    .colab-df-buttons div {\n",
              "      margin-bottom: 4px;\n",
              "    }\n",
              "\n",
              "    [theme=dark] .colab-df-convert {\n",
              "      background-color: #3B4455;\n",
              "      fill: #D2E3FC;\n",
              "    }\n",
              "\n",
              "    [theme=dark] .colab-df-convert:hover {\n",
              "      background-color: #434B5C;\n",
              "      box-shadow: 0px 1px 3px 1px rgba(0, 0, 0, 0.15);\n",
              "      filter: drop-shadow(0px 1px 2px rgba(0, 0, 0, 0.3));\n",
              "      fill: #FFFFFF;\n",
              "    }\n",
              "  </style>\n",
              "\n",
              "    <script>\n",
              "      const buttonEl =\n",
              "        document.querySelector('#df-fd223557-7fc2-44de-8e76-39eb89be71cd button.colab-df-convert');\n",
              "      buttonEl.style.display =\n",
              "        google.colab.kernel.accessAllowed ? 'block' : 'none';\n",
              "\n",
              "      async function convertToInteractive(key) {\n",
              "        const element = document.querySelector('#df-fd223557-7fc2-44de-8e76-39eb89be71cd');\n",
              "        const dataTable =\n",
              "          await google.colab.kernel.invokeFunction('convertToInteractive',\n",
              "                                                    [key], {});\n",
              "        if (!dataTable) return;\n",
              "\n",
              "        const docLinkHtml = 'Like what you see? Visit the ' +\n",
              "          '<a target=\"_blank\" href=https://colab.research.google.com/notebooks/data_table.ipynb>data table notebook</a>'\n",
              "          + ' to learn more about interactive tables.';\n",
              "        element.innerHTML = '';\n",
              "        dataTable['output_type'] = 'display_data';\n",
              "        await google.colab.output.renderOutput(dataTable, element);\n",
              "        const docLink = document.createElement('div');\n",
              "        docLink.innerHTML = docLinkHtml;\n",
              "        element.appendChild(docLink);\n",
              "      }\n",
              "    </script>\n",
              "  </div>\n",
              "\n",
              "\n",
              "    <div id=\"df-6b68b9a6-6a5e-448e-9863-2d6a71c013de\">\n",
              "      <button class=\"colab-df-quickchart\" onclick=\"quickchart('df-6b68b9a6-6a5e-448e-9863-2d6a71c013de')\"\n",
              "                title=\"Suggest charts\"\n",
              "                style=\"display:none;\">\n",
              "\n",
              "<svg xmlns=\"http://www.w3.org/2000/svg\" height=\"24px\"viewBox=\"0 0 24 24\"\n",
              "     width=\"24px\">\n",
              "    <g>\n",
              "        <path d=\"M19 3H5c-1.1 0-2 .9-2 2v14c0 1.1.9 2 2 2h14c1.1 0 2-.9 2-2V5c0-1.1-.9-2-2-2zM9 17H7v-7h2v7zm4 0h-2V7h2v10zm4 0h-2v-4h2v4z\"/>\n",
              "    </g>\n",
              "</svg>\n",
              "      </button>\n",
              "\n",
              "<style>\n",
              "  .colab-df-quickchart {\n",
              "      --bg-color: #E8F0FE;\n",
              "      --fill-color: #1967D2;\n",
              "      --hover-bg-color: #E2EBFA;\n",
              "      --hover-fill-color: #174EA6;\n",
              "      --disabled-fill-color: #AAA;\n",
              "      --disabled-bg-color: #DDD;\n",
              "  }\n",
              "\n",
              "  [theme=dark] .colab-df-quickchart {\n",
              "      --bg-color: #3B4455;\n",
              "      --fill-color: #D2E3FC;\n",
              "      --hover-bg-color: #434B5C;\n",
              "      --hover-fill-color: #FFFFFF;\n",
              "      --disabled-bg-color: #3B4455;\n",
              "      --disabled-fill-color: #666;\n",
              "  }\n",
              "\n",
              "  .colab-df-quickchart {\n",
              "    background-color: var(--bg-color);\n",
              "    border: none;\n",
              "    border-radius: 50%;\n",
              "    cursor: pointer;\n",
              "    display: none;\n",
              "    fill: var(--fill-color);\n",
              "    height: 32px;\n",
              "    padding: 0;\n",
              "    width: 32px;\n",
              "  }\n",
              "\n",
              "  .colab-df-quickchart:hover {\n",
              "    background-color: var(--hover-bg-color);\n",
              "    box-shadow: 0 1px 2px rgba(60, 64, 67, 0.3), 0 1px 3px 1px rgba(60, 64, 67, 0.15);\n",
              "    fill: var(--button-hover-fill-color);\n",
              "  }\n",
              "\n",
              "  .colab-df-quickchart-complete:disabled,\n",
              "  .colab-df-quickchart-complete:disabled:hover {\n",
              "    background-color: var(--disabled-bg-color);\n",
              "    fill: var(--disabled-fill-color);\n",
              "    box-shadow: none;\n",
              "  }\n",
              "\n",
              "  .colab-df-spinner {\n",
              "    border: 2px solid var(--fill-color);\n",
              "    border-color: transparent;\n",
              "    border-bottom-color: var(--fill-color);\n",
              "    animation:\n",
              "      spin 1s steps(1) infinite;\n",
              "  }\n",
              "\n",
              "  @keyframes spin {\n",
              "    0% {\n",
              "      border-color: transparent;\n",
              "      border-bottom-color: var(--fill-color);\n",
              "      border-left-color: var(--fill-color);\n",
              "    }\n",
              "    20% {\n",
              "      border-color: transparent;\n",
              "      border-left-color: var(--fill-color);\n",
              "      border-top-color: var(--fill-color);\n",
              "    }\n",
              "    30% {\n",
              "      border-color: transparent;\n",
              "      border-left-color: var(--fill-color);\n",
              "      border-top-color: var(--fill-color);\n",
              "      border-right-color: var(--fill-color);\n",
              "    }\n",
              "    40% {\n",
              "      border-color: transparent;\n",
              "      border-right-color: var(--fill-color);\n",
              "      border-top-color: var(--fill-color);\n",
              "    }\n",
              "    60% {\n",
              "      border-color: transparent;\n",
              "      border-right-color: var(--fill-color);\n",
              "    }\n",
              "    80% {\n",
              "      border-color: transparent;\n",
              "      border-right-color: var(--fill-color);\n",
              "      border-bottom-color: var(--fill-color);\n",
              "    }\n",
              "    90% {\n",
              "      border-color: transparent;\n",
              "      border-bottom-color: var(--fill-color);\n",
              "    }\n",
              "  }\n",
              "</style>\n",
              "\n",
              "      <script>\n",
              "        async function quickchart(key) {\n",
              "          const quickchartButtonEl =\n",
              "            document.querySelector('#' + key + ' button');\n",
              "          quickchartButtonEl.disabled = true;  // To prevent multiple clicks.\n",
              "          quickchartButtonEl.classList.add('colab-df-spinner');\n",
              "          try {\n",
              "            const charts = await google.colab.kernel.invokeFunction(\n",
              "                'suggestCharts', [key], {});\n",
              "          } catch (error) {\n",
              "            console.error('Error during call to suggestCharts:', error);\n",
              "          }\n",
              "          quickchartButtonEl.classList.remove('colab-df-spinner');\n",
              "          quickchartButtonEl.classList.add('colab-df-quickchart-complete');\n",
              "        }\n",
              "        (() => {\n",
              "          let quickchartButtonEl =\n",
              "            document.querySelector('#df-6b68b9a6-6a5e-448e-9863-2d6a71c013de button');\n",
              "          quickchartButtonEl.style.display =\n",
              "            google.colab.kernel.accessAllowed ? 'block' : 'none';\n",
              "        })();\n",
              "      </script>\n",
              "    </div>\n",
              "\n",
              "    </div>\n",
              "  </div>\n"
            ],
            "application/vnd.google.colaboratory.intrinsic+json": {
              "type": "dataframe",
              "summary": "{\n  \"name\": \"df\",\n  \"rows\": 8,\n  \"fields\": [\n    {\n      \"column\": \"price\",\n      \"properties\": {\n        \"dtype\": \"number\",\n        \"std\": 14341.143290784532,\n        \"min\": 1.48e-09,\n        \"max\": 41217.27,\n        \"num_unique_values\": 8,\n        \"samples\": [\n          656.105988237463,\n          1.0950000000000002,\n          1000.0\n        ],\n        \"semantic_type\": \"\",\n        \"description\": \"\"\n      }\n    },\n    {\n      \"column\": \"1h\",\n      \"properties\": {\n        \"dtype\": \"number\",\n        \"std\": 351.106205565829,\n        \"min\": -0.704,\n        \"max\": 993.0,\n        \"num_unique_values\": 8,\n        \"samples\": [\n          0.009723061430010069,\n          0.006,\n          993.0\n        ],\n        \"semantic_type\": \"\",\n        \"description\": \"\"\n      }\n    },\n    {\n      \"column\": \"24h\",\n      \"properties\": {\n        \"dtype\": \"number\",\n        \"std\": 351.0753349748137,\n        \"min\": -0.646,\n        \"max\": 993.0,\n        \"num_unique_values\": 8,\n        \"samples\": [\n          0.02373716012084592,\n          0.016,\n          993.0\n        ],\n        \"semantic_type\": \"\",\n        \"description\": \"\"\n      }\n    },\n    {\n      \"column\": \"7d\",\n      \"properties\": {\n        \"dtype\": \"number\",\n        \"std\": 350.5117033253418,\n        \"min\": -0.558,\n        \"max\": 992.0,\n        \"num_unique_values\": 8,\n        \"samples\": [\n          0.023558467741935485,\n          -0.0005,\n          992.0\n        ],\n        \"semantic_type\": \"\",\n        \"description\": \"\"\n      }\n    },\n    {\n      \"column\": \"24h_volume\",\n      \"properties\": {\n        \"dtype\": \"number\",\n        \"std\": 20348453955.86986,\n        \"min\": 0.0,\n        \"max\": 57934969077.0,\n        \"num_unique_values\": 8,\n        \"samples\": [\n          289310894.1975328,\n          8343005.0,\n          993.0\n        ],\n        \"semantic_type\": \"\",\n        \"description\": \"\"\n      }\n    },\n    {\n      \"column\": \"mkt_cap\",\n      \"properties\": {\n        \"dtype\": \"number\",\n        \"std\": 272538528685.68173,\n        \"min\": 1000.0,\n        \"max\": 776077000000.0,\n        \"num_unique_values\": 8,\n        \"samples\": [\n          3755302841.139,\n          212003593.5,\n          1000.0\n        ],\n        \"semantic_type\": \"\",\n        \"description\": \"\"\n      }\n    }\n  ]\n}"
            }
          },
          "metadata": {},
          "execution_count": 15
        }
      ]
    },
    {
      "cell_type": "code",
      "source": [
        "#Check Null Values and Data Types\n",
        "df.info()"
      ],
      "metadata": {
        "colab": {
          "base_uri": "https://localhost:8080/"
        },
        "id": "nXL0lJMHUARc",
        "outputId": "a3a5c35f-cbec-450b-f32a-fb24c3f46db9"
      },
      "execution_count": null,
      "outputs": [
        {
          "output_type": "stream",
          "name": "stdout",
          "text": [
            "<class 'pandas.core.frame.DataFrame'>\n",
            "RangeIndex: 1000 entries, 0 to 999\n",
            "Data columns (total 9 columns):\n",
            " #   Column      Non-Null Count  Dtype  \n",
            "---  ------      --------------  -----  \n",
            " 0   coin        1000 non-null   object \n",
            " 1   symbol      1000 non-null   object \n",
            " 2   price       1000 non-null   float64\n",
            " 3   1h          993 non-null    float64\n",
            " 4   24h         993 non-null    float64\n",
            " 5   7d          992 non-null    float64\n",
            " 6   24h_volume  993 non-null    float64\n",
            " 7   mkt_cap     1000 non-null   float64\n",
            " 8   date        1000 non-null   object \n",
            "dtypes: float64(6), object(3)\n",
            "memory usage: 70.4+ KB\n"
          ]
        }
      ]
    },
    {
      "cell_type": "code",
      "source": [
        "#Check Columns\n",
        "df.columns"
      ],
      "metadata": {
        "colab": {
          "base_uri": "https://localhost:8080/"
        },
        "id": "aRcH49bdUFvE",
        "outputId": "77b04f6a-b2a9-4af5-b411-32b9b17a1e1d"
      },
      "execution_count": null,
      "outputs": [
        {
          "output_type": "execute_result",
          "data": {
            "text/plain": [
              "Index(['coin', 'symbol', 'price', '1h', '24h', '7d', '24h_volume', 'mkt_cap',\n",
              "       'date'],\n",
              "      dtype='object')"
            ]
          },
          "metadata": {},
          "execution_count": 17
        }
      ]
    },
    {
      "cell_type": "code",
      "source": [
        "#checking null values\n",
        "df.isnull().sum()"
      ],
      "metadata": {
        "colab": {
          "base_uri": "https://localhost:8080/",
          "height": 366
        },
        "id": "Kn-3IyuHUk7m",
        "outputId": "78dcce07-44f3-49dd-bd21-f20d080c68cd"
      },
      "execution_count": null,
      "outputs": [
        {
          "output_type": "execute_result",
          "data": {
            "text/plain": [
              "coin          0\n",
              "symbol        0\n",
              "price         0\n",
              "1h            7\n",
              "24h           7\n",
              "7d            8\n",
              "24h_volume    7\n",
              "mkt_cap       0\n",
              "date          0\n",
              "dtype: int64"
            ],
            "text/html": [
              "<div>\n",
              "<style scoped>\n",
              "    .dataframe tbody tr th:only-of-type {\n",
              "        vertical-align: middle;\n",
              "    }\n",
              "\n",
              "    .dataframe tbody tr th {\n",
              "        vertical-align: top;\n",
              "    }\n",
              "\n",
              "    .dataframe thead th {\n",
              "        text-align: right;\n",
              "    }\n",
              "</style>\n",
              "<table border=\"1\" class=\"dataframe\">\n",
              "  <thead>\n",
              "    <tr style=\"text-align: right;\">\n",
              "      <th></th>\n",
              "      <th>0</th>\n",
              "    </tr>\n",
              "  </thead>\n",
              "  <tbody>\n",
              "    <tr>\n",
              "      <th>coin</th>\n",
              "      <td>0</td>\n",
              "    </tr>\n",
              "    <tr>\n",
              "      <th>symbol</th>\n",
              "      <td>0</td>\n",
              "    </tr>\n",
              "    <tr>\n",
              "      <th>price</th>\n",
              "      <td>0</td>\n",
              "    </tr>\n",
              "    <tr>\n",
              "      <th>1h</th>\n",
              "      <td>7</td>\n",
              "    </tr>\n",
              "    <tr>\n",
              "      <th>24h</th>\n",
              "      <td>7</td>\n",
              "    </tr>\n",
              "    <tr>\n",
              "      <th>7d</th>\n",
              "      <td>8</td>\n",
              "    </tr>\n",
              "    <tr>\n",
              "      <th>24h_volume</th>\n",
              "      <td>7</td>\n",
              "    </tr>\n",
              "    <tr>\n",
              "      <th>mkt_cap</th>\n",
              "      <td>0</td>\n",
              "    </tr>\n",
              "    <tr>\n",
              "      <th>date</th>\n",
              "      <td>0</td>\n",
              "    </tr>\n",
              "  </tbody>\n",
              "</table>\n",
              "</div><br><label><b>dtype:</b> int64</label>"
            ]
          },
          "metadata": {},
          "execution_count": 18
        }
      ]
    },
    {
      "cell_type": "markdown",
      "source": [
        "#Data Preprocessing"
      ],
      "metadata": {
        "id": "gRuniXdCVI28"
      }
    },
    {
      "cell_type": "markdown",
      "source": [
        "Dropping Missing values"
      ],
      "metadata": {
        "id": "6PzYWQ4Gk0gE"
      }
    },
    {
      "cell_type": "code",
      "source": [
        "df.dropna(inplace=True)\n",
        "print(\"After dropping missing values:\", df.shape)"
      ],
      "metadata": {
        "colab": {
          "base_uri": "https://localhost:8080/"
        },
        "id": "HCbUnCJuj5zI",
        "outputId": "3fdf6262-caed-4423-fd4b-556679f19ac1"
      },
      "execution_count": null,
      "outputs": [
        {
          "output_type": "stream",
          "name": "stdout",
          "text": [
            "After dropping missing values: (992, 9)\n"
          ]
        }
      ]
    },
    {
      "cell_type": "code",
      "source": [
        "from sklearn.preprocessing import MinMaxScaler\n",
        "import pandas as pd\n",
        "\n",
        "def load_and_clean_data(df):\n",
        "\n",
        "    df.fillna(method='ffill', inplace=True)\n",
        "    df.fillna(method='bfill', inplace=True)\n",
        "    df.drop_duplicates(inplace=True)\n",
        "\n",
        "    scaler = MinMaxScaler()\n",
        "    # Check if 'price' and 'volume' columns exist before scaling\n",
        "    if 'price' in df.columns and 'volume' in df.columns:\n",
        "        df[['price', 'volume']] = scaler.fit_transform(df[['price', 'volume']])\n",
        "    else:\n",
        "        print(\"Warning: 'price' or 'volume' columns not found in the DataFrame.\")\n",
        "\n",
        "    return df\n",
        "\n",
        "\n",
        "def engineer_features(df):\n",
        "    # Ensure 'price' and 'volume' columns exist before feature engineering\n",
        "    if 'price' in df.columns and 'volume' in df.columns:\n",
        "        df['price_change'] = df['price'].pct_change()\n",
        "        df['volatility'] = df['price'].rolling(window=5).std()\n",
        "        df['liquidity_ratio'] = df['volume'] / (df['price'] + 1e-6)\n",
        "\n",
        "        df.dropna(inplace=True)  #Remove rows with Nans created by rollin window\n",
        "    else:\n",
        "        print(\"Warning: 'price' or 'volume' columns not found for feature engineering.\")\n",
        "\n",
        "    return df\n",
        "\n",
        "# Call the functions with the already created 'df'\n",
        "df_clean = load_and_clean_data(df)\n",
        "df_final = engineer_features(df_clean)\n",
        "df_final.head()"
      ],
      "metadata": {
        "colab": {
          "base_uri": "https://localhost:8080/",
          "height": 241
        },
        "id": "tjwy7Y9-j8Ne",
        "outputId": "b5d0da80-4483-47ac-b753-2b52c1f49a14"
      },
      "execution_count": null,
      "outputs": [
        {
          "output_type": "stream",
          "name": "stdout",
          "text": [
            "Warning: 'price' or 'volume' columns not found in the DataFrame.\n",
            "Warning: 'price' or 'volume' columns not found for feature engineering.\n"
          ]
        },
        {
          "output_type": "execute_result",
          "data": {
            "text/plain": [
              "       coin symbol         price     1h    24h     7d    24h_volume  \\\n",
              "0   Bitcoin    BTC  40859.460000  0.022  0.030  0.055  3.539076e+10   \n",
              "1  Ethereum    ETH   2744.410000  0.024  0.034  0.065  1.974870e+10   \n",
              "2    Tether   USDT      1.000000 -0.001 -0.001  0.000  5.793497e+10   \n",
              "3       BNB    BNB    383.430000  0.018  0.028  0.004  1.395854e+09   \n",
              "4  USD Coin   USDC      0.999874 -0.001  0.000  0.000  3.872274e+09   \n",
              "\n",
              "        mkt_cap       date  \n",
              "0  7.709910e+11  3/16/2022  \n",
              "1  3.271040e+11  3/16/2022  \n",
              "2  7.996516e+10  3/16/2022  \n",
              "3  6.404382e+10  3/16/2022  \n",
              "4  5.222214e+10  3/16/2022  "
            ],
            "text/html": [
              "\n",
              "  <div id=\"df-d9d4e64e-8cf2-4766-bb2a-991503dd88d6\" class=\"colab-df-container\">\n",
              "    <div>\n",
              "<style scoped>\n",
              "    .dataframe tbody tr th:only-of-type {\n",
              "        vertical-align: middle;\n",
              "    }\n",
              "\n",
              "    .dataframe tbody tr th {\n",
              "        vertical-align: top;\n",
              "    }\n",
              "\n",
              "    .dataframe thead th {\n",
              "        text-align: right;\n",
              "    }\n",
              "</style>\n",
              "<table border=\"1\" class=\"dataframe\">\n",
              "  <thead>\n",
              "    <tr style=\"text-align: right;\">\n",
              "      <th></th>\n",
              "      <th>coin</th>\n",
              "      <th>symbol</th>\n",
              "      <th>price</th>\n",
              "      <th>1h</th>\n",
              "      <th>24h</th>\n",
              "      <th>7d</th>\n",
              "      <th>24h_volume</th>\n",
              "      <th>mkt_cap</th>\n",
              "      <th>date</th>\n",
              "    </tr>\n",
              "  </thead>\n",
              "  <tbody>\n",
              "    <tr>\n",
              "      <th>0</th>\n",
              "      <td>Bitcoin</td>\n",
              "      <td>BTC</td>\n",
              "      <td>40859.460000</td>\n",
              "      <td>0.022</td>\n",
              "      <td>0.030</td>\n",
              "      <td>0.055</td>\n",
              "      <td>3.539076e+10</td>\n",
              "      <td>7.709910e+11</td>\n",
              "      <td>3/16/2022</td>\n",
              "    </tr>\n",
              "    <tr>\n",
              "      <th>1</th>\n",
              "      <td>Ethereum</td>\n",
              "      <td>ETH</td>\n",
              "      <td>2744.410000</td>\n",
              "      <td>0.024</td>\n",
              "      <td>0.034</td>\n",
              "      <td>0.065</td>\n",
              "      <td>1.974870e+10</td>\n",
              "      <td>3.271040e+11</td>\n",
              "      <td>3/16/2022</td>\n",
              "    </tr>\n",
              "    <tr>\n",
              "      <th>2</th>\n",
              "      <td>Tether</td>\n",
              "      <td>USDT</td>\n",
              "      <td>1.000000</td>\n",
              "      <td>-0.001</td>\n",
              "      <td>-0.001</td>\n",
              "      <td>0.000</td>\n",
              "      <td>5.793497e+10</td>\n",
              "      <td>7.996516e+10</td>\n",
              "      <td>3/16/2022</td>\n",
              "    </tr>\n",
              "    <tr>\n",
              "      <th>3</th>\n",
              "      <td>BNB</td>\n",
              "      <td>BNB</td>\n",
              "      <td>383.430000</td>\n",
              "      <td>0.018</td>\n",
              "      <td>0.028</td>\n",
              "      <td>0.004</td>\n",
              "      <td>1.395854e+09</td>\n",
              "      <td>6.404382e+10</td>\n",
              "      <td>3/16/2022</td>\n",
              "    </tr>\n",
              "    <tr>\n",
              "      <th>4</th>\n",
              "      <td>USD Coin</td>\n",
              "      <td>USDC</td>\n",
              "      <td>0.999874</td>\n",
              "      <td>-0.001</td>\n",
              "      <td>0.000</td>\n",
              "      <td>0.000</td>\n",
              "      <td>3.872274e+09</td>\n",
              "      <td>5.222214e+10</td>\n",
              "      <td>3/16/2022</td>\n",
              "    </tr>\n",
              "  </tbody>\n",
              "</table>\n",
              "</div>\n",
              "    <div class=\"colab-df-buttons\">\n",
              "\n",
              "  <div class=\"colab-df-container\">\n",
              "    <button class=\"colab-df-convert\" onclick=\"convertToInteractive('df-d9d4e64e-8cf2-4766-bb2a-991503dd88d6')\"\n",
              "            title=\"Convert this dataframe to an interactive table.\"\n",
              "            style=\"display:none;\">\n",
              "\n",
              "  <svg xmlns=\"http://www.w3.org/2000/svg\" height=\"24px\" viewBox=\"0 -960 960 960\">\n",
              "    <path d=\"M120-120v-720h720v720H120Zm60-500h600v-160H180v160Zm220 220h160v-160H400v160Zm0 220h160v-160H400v160ZM180-400h160v-160H180v160Zm440 0h160v-160H620v160ZM180-180h160v-160H180v160Zm440 0h160v-160H620v160Z\"/>\n",
              "  </svg>\n",
              "    </button>\n",
              "\n",
              "  <style>\n",
              "    .colab-df-container {\n",
              "      display:flex;\n",
              "      gap: 12px;\n",
              "    }\n",
              "\n",
              "    .colab-df-convert {\n",
              "      background-color: #E8F0FE;\n",
              "      border: none;\n",
              "      border-radius: 50%;\n",
              "      cursor: pointer;\n",
              "      display: none;\n",
              "      fill: #1967D2;\n",
              "      height: 32px;\n",
              "      padding: 0 0 0 0;\n",
              "      width: 32px;\n",
              "    }\n",
              "\n",
              "    .colab-df-convert:hover {\n",
              "      background-color: #E2EBFA;\n",
              "      box-shadow: 0px 1px 2px rgba(60, 64, 67, 0.3), 0px 1px 3px 1px rgba(60, 64, 67, 0.15);\n",
              "      fill: #174EA6;\n",
              "    }\n",
              "\n",
              "    .colab-df-buttons div {\n",
              "      margin-bottom: 4px;\n",
              "    }\n",
              "\n",
              "    [theme=dark] .colab-df-convert {\n",
              "      background-color: #3B4455;\n",
              "      fill: #D2E3FC;\n",
              "    }\n",
              "\n",
              "    [theme=dark] .colab-df-convert:hover {\n",
              "      background-color: #434B5C;\n",
              "      box-shadow: 0px 1px 3px 1px rgba(0, 0, 0, 0.15);\n",
              "      filter: drop-shadow(0px 1px 2px rgba(0, 0, 0, 0.3));\n",
              "      fill: #FFFFFF;\n",
              "    }\n",
              "  </style>\n",
              "\n",
              "    <script>\n",
              "      const buttonEl =\n",
              "        document.querySelector('#df-d9d4e64e-8cf2-4766-bb2a-991503dd88d6 button.colab-df-convert');\n",
              "      buttonEl.style.display =\n",
              "        google.colab.kernel.accessAllowed ? 'block' : 'none';\n",
              "\n",
              "      async function convertToInteractive(key) {\n",
              "        const element = document.querySelector('#df-d9d4e64e-8cf2-4766-bb2a-991503dd88d6');\n",
              "        const dataTable =\n",
              "          await google.colab.kernel.invokeFunction('convertToInteractive',\n",
              "                                                    [key], {});\n",
              "        if (!dataTable) return;\n",
              "\n",
              "        const docLinkHtml = 'Like what you see? Visit the ' +\n",
              "          '<a target=\"_blank\" href=https://colab.research.google.com/notebooks/data_table.ipynb>data table notebook</a>'\n",
              "          + ' to learn more about interactive tables.';\n",
              "        element.innerHTML = '';\n",
              "        dataTable['output_type'] = 'display_data';\n",
              "        await google.colab.output.renderOutput(dataTable, element);\n",
              "        const docLink = document.createElement('div');\n",
              "        docLink.innerHTML = docLinkHtml;\n",
              "        element.appendChild(docLink);\n",
              "      }\n",
              "    </script>\n",
              "  </div>\n",
              "\n",
              "\n",
              "    <div id=\"df-7ee06cc2-e263-431c-b430-fb9d28048556\">\n",
              "      <button class=\"colab-df-quickchart\" onclick=\"quickchart('df-7ee06cc2-e263-431c-b430-fb9d28048556')\"\n",
              "                title=\"Suggest charts\"\n",
              "                style=\"display:none;\">\n",
              "\n",
              "<svg xmlns=\"http://www.w3.org/2000/svg\" height=\"24px\"viewBox=\"0 0 24 24\"\n",
              "     width=\"24px\">\n",
              "    <g>\n",
              "        <path d=\"M19 3H5c-1.1 0-2 .9-2 2v14c0 1.1.9 2 2 2h14c1.1 0 2-.9 2-2V5c0-1.1-.9-2-2-2zM9 17H7v-7h2v7zm4 0h-2V7h2v10zm4 0h-2v-4h2v4z\"/>\n",
              "    </g>\n",
              "</svg>\n",
              "      </button>\n",
              "\n",
              "<style>\n",
              "  .colab-df-quickchart {\n",
              "      --bg-color: #E8F0FE;\n",
              "      --fill-color: #1967D2;\n",
              "      --hover-bg-color: #E2EBFA;\n",
              "      --hover-fill-color: #174EA6;\n",
              "      --disabled-fill-color: #AAA;\n",
              "      --disabled-bg-color: #DDD;\n",
              "  }\n",
              "\n",
              "  [theme=dark] .colab-df-quickchart {\n",
              "      --bg-color: #3B4455;\n",
              "      --fill-color: #D2E3FC;\n",
              "      --hover-bg-color: #434B5C;\n",
              "      --hover-fill-color: #FFFFFF;\n",
              "      --disabled-bg-color: #3B4455;\n",
              "      --disabled-fill-color: #666;\n",
              "  }\n",
              "\n",
              "  .colab-df-quickchart {\n",
              "    background-color: var(--bg-color);\n",
              "    border: none;\n",
              "    border-radius: 50%;\n",
              "    cursor: pointer;\n",
              "    display: none;\n",
              "    fill: var(--fill-color);\n",
              "    height: 32px;\n",
              "    padding: 0;\n",
              "    width: 32px;\n",
              "  }\n",
              "\n",
              "  .colab-df-quickchart:hover {\n",
              "    background-color: var(--hover-bg-color);\n",
              "    box-shadow: 0 1px 2px rgba(60, 64, 67, 0.3), 0 1px 3px 1px rgba(60, 64, 67, 0.15);\n",
              "    fill: var(--button-hover-fill-color);\n",
              "  }\n",
              "\n",
              "  .colab-df-quickchart-complete:disabled,\n",
              "  .colab-df-quickchart-complete:disabled:hover {\n",
              "    background-color: var(--disabled-bg-color);\n",
              "    fill: var(--disabled-fill-color);\n",
              "    box-shadow: none;\n",
              "  }\n",
              "\n",
              "  .colab-df-spinner {\n",
              "    border: 2px solid var(--fill-color);\n",
              "    border-color: transparent;\n",
              "    border-bottom-color: var(--fill-color);\n",
              "    animation:\n",
              "      spin 1s steps(1) infinite;\n",
              "  }\n",
              "\n",
              "  @keyframes spin {\n",
              "    0% {\n",
              "      border-color: transparent;\n",
              "      border-bottom-color: var(--fill-color);\n",
              "      border-left-color: var(--fill-color);\n",
              "    }\n",
              "    20% {\n",
              "      border-color: transparent;\n",
              "      border-left-color: var(--fill-color);\n",
              "      border-top-color: var(--fill-color);\n",
              "    }\n",
              "    30% {\n",
              "      border-color: transparent;\n",
              "      border-left-color: var(--fill-color);\n",
              "      border-top-color: var(--fill-color);\n",
              "      border-right-color: var(--fill-color);\n",
              "    }\n",
              "    40% {\n",
              "      border-color: transparent;\n",
              "      border-right-color: var(--fill-color);\n",
              "      border-top-color: var(--fill-color);\n",
              "    }\n",
              "    60% {\n",
              "      border-color: transparent;\n",
              "      border-right-color: var(--fill-color);\n",
              "    }\n",
              "    80% {\n",
              "      border-color: transparent;\n",
              "      border-right-color: var(--fill-color);\n",
              "      border-bottom-color: var(--fill-color);\n",
              "    }\n",
              "    90% {\n",
              "      border-color: transparent;\n",
              "      border-bottom-color: var(--fill-color);\n",
              "    }\n",
              "  }\n",
              "</style>\n",
              "\n",
              "      <script>\n",
              "        async function quickchart(key) {\n",
              "          const quickchartButtonEl =\n",
              "            document.querySelector('#' + key + ' button');\n",
              "          quickchartButtonEl.disabled = true;  // To prevent multiple clicks.\n",
              "          quickchartButtonEl.classList.add('colab-df-spinner');\n",
              "          try {\n",
              "            const charts = await google.colab.kernel.invokeFunction(\n",
              "                'suggestCharts', [key], {});\n",
              "          } catch (error) {\n",
              "            console.error('Error during call to suggestCharts:', error);\n",
              "          }\n",
              "          quickchartButtonEl.classList.remove('colab-df-spinner');\n",
              "          quickchartButtonEl.classList.add('colab-df-quickchart-complete');\n",
              "        }\n",
              "        (() => {\n",
              "          let quickchartButtonEl =\n",
              "            document.querySelector('#df-7ee06cc2-e263-431c-b430-fb9d28048556 button');\n",
              "          quickchartButtonEl.style.display =\n",
              "            google.colab.kernel.accessAllowed ? 'block' : 'none';\n",
              "        })();\n",
              "      </script>\n",
              "    </div>\n",
              "\n",
              "    </div>\n",
              "  </div>\n"
            ],
            "application/vnd.google.colaboratory.intrinsic+json": {
              "type": "dataframe",
              "variable_name": "df_final",
              "summary": "{\n  \"name\": \"df_final\",\n  \"rows\": 992,\n  \"fields\": [\n    {\n      \"column\": \"coin\",\n      \"properties\": {\n        \"dtype\": \"string\",\n        \"num_unique_values\": 502,\n        \"samples\": [\n          \"Kyber Network Crystal Legacy\",\n          \"Bitcoin SV\",\n          \"Rari Governance Token\"\n        ],\n        \"semantic_type\": \"\",\n        \"description\": \"\"\n      }\n    },\n    {\n      \"column\": \"symbol\",\n      \"properties\": {\n        \"dtype\": \"string\",\n        \"num_unique_values\": 499,\n        \"samples\": [\n          \"FOX\",\n          \"BSV\",\n          \"API3\"\n        ],\n        \"semantic_type\": \"\",\n        \"description\": \"\"\n      }\n    },\n    {\n      \"column\": \"price\",\n      \"properties\": {\n        \"dtype\": \"number\",\n        \"std\": 4421.997963456708,\n        \"min\": 1.48e-09,\n        \"max\": 41217.27,\n        \"num_unique_values\": 889,\n        \"samples\": [\n          75.29,\n          4.11e-05,\n          0.047848055\n        ],\n        \"semantic_type\": \"\",\n        \"description\": \"\"\n      }\n    },\n    {\n      \"column\": \"1h\",\n      \"properties\": {\n        \"dtype\": \"number\",\n        \"std\": 0.026917465038807535,\n        \"min\": -0.704,\n        \"max\": 0.095,\n        \"num_unique_values\": 87,\n        \"samples\": [\n          -0.015,\n          0.022,\n          0.009\n        ],\n        \"semantic_type\": \"\",\n        \"description\": \"\"\n      }\n    },\n    {\n      \"column\": \"24h\",\n      \"properties\": {\n        \"dtype\": \"number\",\n        \"std\": 0.0586678353747186,\n        \"min\": -0.646,\n        \"max\": 0.577,\n        \"num_unique_values\": 194,\n        \"samples\": [\n          -0.047,\n          0.013,\n          -0.06\n        ],\n        \"semantic_type\": \"\",\n        \"description\": \"\"\n      }\n    },\n    {\n      \"column\": \"7d\",\n      \"properties\": {\n        \"dtype\": \"number\",\n        \"std\": 0.22978126441060878,\n        \"min\": -0.558,\n        \"max\": 4.608,\n        \"num_unique_values\": 339,\n        \"samples\": [\n          -0.123,\n          -0.086,\n          -0.047\n        ],\n        \"semantic_type\": \"\",\n        \"description\": \"\"\n      }\n    },\n    {\n      \"column\": \"24h_volume\",\n      \"properties\": {\n        \"dtype\": \"number\",\n        \"std\": 2771176333.734509,\n        \"min\": 0.0,\n        \"max\": 57934969077.0,\n        \"num_unique_values\": 991,\n        \"samples\": [\n          42667.91,\n          4643750.0,\n          3569816487.0\n        ],\n        \"semantic_type\": \"\",\n        \"description\": \"\"\n      }\n    },\n    {\n      \"column\": \"mkt_cap\",\n      \"properties\": {\n        \"dtype\": \"number\",\n        \"std\": 38189678247.00222,\n        \"min\": 65770433.0,\n        \"max\": 776077000000.0,\n        \"num_unique_values\": 982,\n        \"samples\": [\n          148673012.0,\n          154953141.0,\n          120557876.0\n        ],\n        \"semantic_type\": \"\",\n        \"description\": \"\"\n      }\n    },\n    {\n      \"column\": \"date\",\n      \"properties\": {\n        \"dtype\": \"object\",\n        \"num_unique_values\": 2,\n        \"samples\": [\n          \"3/17/2022\",\n          \"3/16/2022\"\n        ],\n        \"semantic_type\": \"\",\n        \"description\": \"\"\n      }\n    }\n  ]\n}"
            }
          },
          "metadata": {},
          "execution_count": 20
        }
      ]
    },
    {
      "cell_type": "code",
      "source": [
        "df.dropna(inplace=True)\n",
        "print(\"After dropping missing values:\", df.shape)"
      ],
      "metadata": {
        "colab": {
          "base_uri": "https://localhost:8080/"
        },
        "id": "ixdfV3XIktwC",
        "outputId": "1e90f727-580e-4200-a0dc-8e2d4d18c57d"
      },
      "execution_count": null,
      "outputs": [
        {
          "output_type": "stream",
          "name": "stdout",
          "text": [
            "After dropping missing values: (992, 9)\n"
          ]
        }
      ]
    },
    {
      "cell_type": "markdown",
      "source": [
        "converting the \"Date\" column to datetime format:\n"
      ],
      "metadata": {
        "id": "kpoEUdeyk5OP"
      }
    },
    {
      "cell_type": "code",
      "source": [
        "df['date']= pd.to_datetime(df['date'])\n",
        "df.dtypes"
      ],
      "metadata": {
        "colab": {
          "base_uri": "https://localhost:8080/",
          "height": 366
        },
        "id": "yQa-S34tkwD9",
        "outputId": "7324d3f4-0d38-4e82-8aa0-5b3cb371eb80"
      },
      "execution_count": null,
      "outputs": [
        {
          "output_type": "execute_result",
          "data": {
            "text/plain": [
              "coin                  object\n",
              "symbol                object\n",
              "price                float64\n",
              "1h                   float64\n",
              "24h                  float64\n",
              "7d                   float64\n",
              "24h_volume           float64\n",
              "mkt_cap              float64\n",
              "date          datetime64[ns]\n",
              "dtype: object"
            ],
            "text/html": [
              "<div>\n",
              "<style scoped>\n",
              "    .dataframe tbody tr th:only-of-type {\n",
              "        vertical-align: middle;\n",
              "    }\n",
              "\n",
              "    .dataframe tbody tr th {\n",
              "        vertical-align: top;\n",
              "    }\n",
              "\n",
              "    .dataframe thead th {\n",
              "        text-align: right;\n",
              "    }\n",
              "</style>\n",
              "<table border=\"1\" class=\"dataframe\">\n",
              "  <thead>\n",
              "    <tr style=\"text-align: right;\">\n",
              "      <th></th>\n",
              "      <th>0</th>\n",
              "    </tr>\n",
              "  </thead>\n",
              "  <tbody>\n",
              "    <tr>\n",
              "      <th>coin</th>\n",
              "      <td>object</td>\n",
              "    </tr>\n",
              "    <tr>\n",
              "      <th>symbol</th>\n",
              "      <td>object</td>\n",
              "    </tr>\n",
              "    <tr>\n",
              "      <th>price</th>\n",
              "      <td>float64</td>\n",
              "    </tr>\n",
              "    <tr>\n",
              "      <th>1h</th>\n",
              "      <td>float64</td>\n",
              "    </tr>\n",
              "    <tr>\n",
              "      <th>24h</th>\n",
              "      <td>float64</td>\n",
              "    </tr>\n",
              "    <tr>\n",
              "      <th>7d</th>\n",
              "      <td>float64</td>\n",
              "    </tr>\n",
              "    <tr>\n",
              "      <th>24h_volume</th>\n",
              "      <td>float64</td>\n",
              "    </tr>\n",
              "    <tr>\n",
              "      <th>mkt_cap</th>\n",
              "      <td>float64</td>\n",
              "    </tr>\n",
              "    <tr>\n",
              "      <th>date</th>\n",
              "      <td>datetime64[ns]</td>\n",
              "    </tr>\n",
              "  </tbody>\n",
              "</table>\n",
              "</div><br><label><b>dtype:</b> object</label>"
            ]
          },
          "metadata": {},
          "execution_count": 22
        }
      ]
    },
    {
      "cell_type": "markdown",
      "source": [
        "#EXPLORING DATA Analysis"
      ],
      "metadata": {
        "id": "55L0AJpbr5WL"
      }
    },
    {
      "cell_type": "code",
      "source": [
        "#checking Duplicates\n",
        "df.duplicated().sum()"
      ],
      "metadata": {
        "colab": {
          "base_uri": "https://localhost:8080/"
        },
        "id": "hXh08kSfrSyO",
        "outputId": "1356aebc-10e6-48b2-f522-c25981d39c5c"
      },
      "execution_count": null,
      "outputs": [
        {
          "output_type": "execute_result",
          "data": {
            "text/plain": [
              "np.int64(0)"
            ]
          },
          "metadata": {},
          "execution_count": 23
        }
      ]
    },
    {
      "cell_type": "code",
      "source": [
        "df.describe()"
      ],
      "metadata": {
        "colab": {
          "base_uri": "https://localhost:8080/",
          "height": 300
        },
        "id": "HLwNzGhIrecB",
        "outputId": "9b9f2bd0-f0b9-42de-abaf-a898d50606ce"
      },
      "execution_count": null,
      "outputs": [
        {
          "output_type": "execute_result",
          "data": {
            "text/plain": [
              "              price          1h         24h          7d    24h_volume  \\\n",
              "count  9.920000e+02  992.000000  992.000000  992.000000  9.920000e+02   \n",
              "mean   6.200521e+02    0.009682    0.024018    0.023558  2.884638e+08   \n",
              "min    1.480000e-09   -0.704000   -0.646000   -0.558000  0.000000e+00   \n",
              "25%    1.940547e-01    0.001000    0.001000   -0.041000  1.764198e+06   \n",
              "50%    1.095000e+00    0.006000    0.016000   -0.000500  8.328741e+06   \n",
              "75%    6.955000e+00    0.019000    0.035000    0.037000  3.947222e+07   \n",
              "max    4.121727e+04    0.095000    0.577000    4.608000  5.793497e+10   \n",
              "std    4.421998e+03    0.026917    0.058668    0.229781  2.771176e+09   \n",
              "\n",
              "            mkt_cap                           date  \n",
              "count  9.920000e+02                            992  \n",
              "mean   3.783949e+09  2022-03-16 11:58:32.903225856  \n",
              "min    6.577043e+07            2022-03-16 00:00:00  \n",
              "25%    1.158501e+08            2022-03-16 00:00:00  \n",
              "50%    2.131953e+08            2022-03-16 00:00:00  \n",
              "75%    5.972493e+08            2022-03-17 00:00:00  \n",
              "max    7.760770e+11            2022-03-17 00:00:00  \n",
              "std    3.818968e+10                            NaN  "
            ],
            "text/html": [
              "\n",
              "  <div id=\"df-259d3938-a809-4200-a509-76a3d71d9e94\" class=\"colab-df-container\">\n",
              "    <div>\n",
              "<style scoped>\n",
              "    .dataframe tbody tr th:only-of-type {\n",
              "        vertical-align: middle;\n",
              "    }\n",
              "\n",
              "    .dataframe tbody tr th {\n",
              "        vertical-align: top;\n",
              "    }\n",
              "\n",
              "    .dataframe thead th {\n",
              "        text-align: right;\n",
              "    }\n",
              "</style>\n",
              "<table border=\"1\" class=\"dataframe\">\n",
              "  <thead>\n",
              "    <tr style=\"text-align: right;\">\n",
              "      <th></th>\n",
              "      <th>price</th>\n",
              "      <th>1h</th>\n",
              "      <th>24h</th>\n",
              "      <th>7d</th>\n",
              "      <th>24h_volume</th>\n",
              "      <th>mkt_cap</th>\n",
              "      <th>date</th>\n",
              "    </tr>\n",
              "  </thead>\n",
              "  <tbody>\n",
              "    <tr>\n",
              "      <th>count</th>\n",
              "      <td>9.920000e+02</td>\n",
              "      <td>992.000000</td>\n",
              "      <td>992.000000</td>\n",
              "      <td>992.000000</td>\n",
              "      <td>9.920000e+02</td>\n",
              "      <td>9.920000e+02</td>\n",
              "      <td>992</td>\n",
              "    </tr>\n",
              "    <tr>\n",
              "      <th>mean</th>\n",
              "      <td>6.200521e+02</td>\n",
              "      <td>0.009682</td>\n",
              "      <td>0.024018</td>\n",
              "      <td>0.023558</td>\n",
              "      <td>2.884638e+08</td>\n",
              "      <td>3.783949e+09</td>\n",
              "      <td>2022-03-16 11:58:32.903225856</td>\n",
              "    </tr>\n",
              "    <tr>\n",
              "      <th>min</th>\n",
              "      <td>1.480000e-09</td>\n",
              "      <td>-0.704000</td>\n",
              "      <td>-0.646000</td>\n",
              "      <td>-0.558000</td>\n",
              "      <td>0.000000e+00</td>\n",
              "      <td>6.577043e+07</td>\n",
              "      <td>2022-03-16 00:00:00</td>\n",
              "    </tr>\n",
              "    <tr>\n",
              "      <th>25%</th>\n",
              "      <td>1.940547e-01</td>\n",
              "      <td>0.001000</td>\n",
              "      <td>0.001000</td>\n",
              "      <td>-0.041000</td>\n",
              "      <td>1.764198e+06</td>\n",
              "      <td>1.158501e+08</td>\n",
              "      <td>2022-03-16 00:00:00</td>\n",
              "    </tr>\n",
              "    <tr>\n",
              "      <th>50%</th>\n",
              "      <td>1.095000e+00</td>\n",
              "      <td>0.006000</td>\n",
              "      <td>0.016000</td>\n",
              "      <td>-0.000500</td>\n",
              "      <td>8.328741e+06</td>\n",
              "      <td>2.131953e+08</td>\n",
              "      <td>2022-03-16 00:00:00</td>\n",
              "    </tr>\n",
              "    <tr>\n",
              "      <th>75%</th>\n",
              "      <td>6.955000e+00</td>\n",
              "      <td>0.019000</td>\n",
              "      <td>0.035000</td>\n",
              "      <td>0.037000</td>\n",
              "      <td>3.947222e+07</td>\n",
              "      <td>5.972493e+08</td>\n",
              "      <td>2022-03-17 00:00:00</td>\n",
              "    </tr>\n",
              "    <tr>\n",
              "      <th>max</th>\n",
              "      <td>4.121727e+04</td>\n",
              "      <td>0.095000</td>\n",
              "      <td>0.577000</td>\n",
              "      <td>4.608000</td>\n",
              "      <td>5.793497e+10</td>\n",
              "      <td>7.760770e+11</td>\n",
              "      <td>2022-03-17 00:00:00</td>\n",
              "    </tr>\n",
              "    <tr>\n",
              "      <th>std</th>\n",
              "      <td>4.421998e+03</td>\n",
              "      <td>0.026917</td>\n",
              "      <td>0.058668</td>\n",
              "      <td>0.229781</td>\n",
              "      <td>2.771176e+09</td>\n",
              "      <td>3.818968e+10</td>\n",
              "      <td>NaN</td>\n",
              "    </tr>\n",
              "  </tbody>\n",
              "</table>\n",
              "</div>\n",
              "    <div class=\"colab-df-buttons\">\n",
              "\n",
              "  <div class=\"colab-df-container\">\n",
              "    <button class=\"colab-df-convert\" onclick=\"convertToInteractive('df-259d3938-a809-4200-a509-76a3d71d9e94')\"\n",
              "            title=\"Convert this dataframe to an interactive table.\"\n",
              "            style=\"display:none;\">\n",
              "\n",
              "  <svg xmlns=\"http://www.w3.org/2000/svg\" height=\"24px\" viewBox=\"0 -960 960 960\">\n",
              "    <path d=\"M120-120v-720h720v720H120Zm60-500h600v-160H180v160Zm220 220h160v-160H400v160Zm0 220h160v-160H400v160ZM180-400h160v-160H180v160Zm440 0h160v-160H620v160ZM180-180h160v-160H180v160Zm440 0h160v-160H620v160Z\"/>\n",
              "  </svg>\n",
              "    </button>\n",
              "\n",
              "  <style>\n",
              "    .colab-df-container {\n",
              "      display:flex;\n",
              "      gap: 12px;\n",
              "    }\n",
              "\n",
              "    .colab-df-convert {\n",
              "      background-color: #E8F0FE;\n",
              "      border: none;\n",
              "      border-radius: 50%;\n",
              "      cursor: pointer;\n",
              "      display: none;\n",
              "      fill: #1967D2;\n",
              "      height: 32px;\n",
              "      padding: 0 0 0 0;\n",
              "      width: 32px;\n",
              "    }\n",
              "\n",
              "    .colab-df-convert:hover {\n",
              "      background-color: #E2EBFA;\n",
              "      box-shadow: 0px 1px 2px rgba(60, 64, 67, 0.3), 0px 1px 3px 1px rgba(60, 64, 67, 0.15);\n",
              "      fill: #174EA6;\n",
              "    }\n",
              "\n",
              "    .colab-df-buttons div {\n",
              "      margin-bottom: 4px;\n",
              "    }\n",
              "\n",
              "    [theme=dark] .colab-df-convert {\n",
              "      background-color: #3B4455;\n",
              "      fill: #D2E3FC;\n",
              "    }\n",
              "\n",
              "    [theme=dark] .colab-df-convert:hover {\n",
              "      background-color: #434B5C;\n",
              "      box-shadow: 0px 1px 3px 1px rgba(0, 0, 0, 0.15);\n",
              "      filter: drop-shadow(0px 1px 2px rgba(0, 0, 0, 0.3));\n",
              "      fill: #FFFFFF;\n",
              "    }\n",
              "  </style>\n",
              "\n",
              "    <script>\n",
              "      const buttonEl =\n",
              "        document.querySelector('#df-259d3938-a809-4200-a509-76a3d71d9e94 button.colab-df-convert');\n",
              "      buttonEl.style.display =\n",
              "        google.colab.kernel.accessAllowed ? 'block' : 'none';\n",
              "\n",
              "      async function convertToInteractive(key) {\n",
              "        const element = document.querySelector('#df-259d3938-a809-4200-a509-76a3d71d9e94');\n",
              "        const dataTable =\n",
              "          await google.colab.kernel.invokeFunction('convertToInteractive',\n",
              "                                                    [key], {});\n",
              "        if (!dataTable) return;\n",
              "\n",
              "        const docLinkHtml = 'Like what you see? Visit the ' +\n",
              "          '<a target=\"_blank\" href=https://colab.research.google.com/notebooks/data_table.ipynb>data table notebook</a>'\n",
              "          + ' to learn more about interactive tables.';\n",
              "        element.innerHTML = '';\n",
              "        dataTable['output_type'] = 'display_data';\n",
              "        await google.colab.output.renderOutput(dataTable, element);\n",
              "        const docLink = document.createElement('div');\n",
              "        docLink.innerHTML = docLinkHtml;\n",
              "        element.appendChild(docLink);\n",
              "      }\n",
              "    </script>\n",
              "  </div>\n",
              "\n",
              "\n",
              "    <div id=\"df-cc869172-04f0-45c0-bca9-0218c8735c9c\">\n",
              "      <button class=\"colab-df-quickchart\" onclick=\"quickchart('df-cc869172-04f0-45c0-bca9-0218c8735c9c')\"\n",
              "                title=\"Suggest charts\"\n",
              "                style=\"display:none;\">\n",
              "\n",
              "<svg xmlns=\"http://www.w3.org/2000/svg\" height=\"24px\"viewBox=\"0 0 24 24\"\n",
              "     width=\"24px\">\n",
              "    <g>\n",
              "        <path d=\"M19 3H5c-1.1 0-2 .9-2 2v14c0 1.1.9 2 2 2h14c1.1 0 2-.9 2-2V5c0-1.1-.9-2-2-2zM9 17H7v-7h2v7zm4 0h-2V7h2v10zm4 0h-2v-4h2v4z\"/>\n",
              "    </g>\n",
              "</svg>\n",
              "      </button>\n",
              "\n",
              "<style>\n",
              "  .colab-df-quickchart {\n",
              "      --bg-color: #E8F0FE;\n",
              "      --fill-color: #1967D2;\n",
              "      --hover-bg-color: #E2EBFA;\n",
              "      --hover-fill-color: #174EA6;\n",
              "      --disabled-fill-color: #AAA;\n",
              "      --disabled-bg-color: #DDD;\n",
              "  }\n",
              "\n",
              "  [theme=dark] .colab-df-quickchart {\n",
              "      --bg-color: #3B4455;\n",
              "      --fill-color: #D2E3FC;\n",
              "      --hover-bg-color: #434B5C;\n",
              "      --hover-fill-color: #FFFFFF;\n",
              "      --disabled-bg-color: #3B4455;\n",
              "      --disabled-fill-color: #666;\n",
              "  }\n",
              "\n",
              "  .colab-df-quickchart {\n",
              "    background-color: var(--bg-color);\n",
              "    border: none;\n",
              "    border-radius: 50%;\n",
              "    cursor: pointer;\n",
              "    display: none;\n",
              "    fill: var(--fill-color);\n",
              "    height: 32px;\n",
              "    padding: 0;\n",
              "    width: 32px;\n",
              "  }\n",
              "\n",
              "  .colab-df-quickchart:hover {\n",
              "    background-color: var(--hover-bg-color);\n",
              "    box-shadow: 0 1px 2px rgba(60, 64, 67, 0.3), 0 1px 3px 1px rgba(60, 64, 67, 0.15);\n",
              "    fill: var(--button-hover-fill-color);\n",
              "  }\n",
              "\n",
              "  .colab-df-quickchart-complete:disabled,\n",
              "  .colab-df-quickchart-complete:disabled:hover {\n",
              "    background-color: var(--disabled-bg-color);\n",
              "    fill: var(--disabled-fill-color);\n",
              "    box-shadow: none;\n",
              "  }\n",
              "\n",
              "  .colab-df-spinner {\n",
              "    border: 2px solid var(--fill-color);\n",
              "    border-color: transparent;\n",
              "    border-bottom-color: var(--fill-color);\n",
              "    animation:\n",
              "      spin 1s steps(1) infinite;\n",
              "  }\n",
              "\n",
              "  @keyframes spin {\n",
              "    0% {\n",
              "      border-color: transparent;\n",
              "      border-bottom-color: var(--fill-color);\n",
              "      border-left-color: var(--fill-color);\n",
              "    }\n",
              "    20% {\n",
              "      border-color: transparent;\n",
              "      border-left-color: var(--fill-color);\n",
              "      border-top-color: var(--fill-color);\n",
              "    }\n",
              "    30% {\n",
              "      border-color: transparent;\n",
              "      border-left-color: var(--fill-color);\n",
              "      border-top-color: var(--fill-color);\n",
              "      border-right-color: var(--fill-color);\n",
              "    }\n",
              "    40% {\n",
              "      border-color: transparent;\n",
              "      border-right-color: var(--fill-color);\n",
              "      border-top-color: var(--fill-color);\n",
              "    }\n",
              "    60% {\n",
              "      border-color: transparent;\n",
              "      border-right-color: var(--fill-color);\n",
              "    }\n",
              "    80% {\n",
              "      border-color: transparent;\n",
              "      border-right-color: var(--fill-color);\n",
              "      border-bottom-color: var(--fill-color);\n",
              "    }\n",
              "    90% {\n",
              "      border-color: transparent;\n",
              "      border-bottom-color: var(--fill-color);\n",
              "    }\n",
              "  }\n",
              "</style>\n",
              "\n",
              "      <script>\n",
              "        async function quickchart(key) {\n",
              "          const quickchartButtonEl =\n",
              "            document.querySelector('#' + key + ' button');\n",
              "          quickchartButtonEl.disabled = true;  // To prevent multiple clicks.\n",
              "          quickchartButtonEl.classList.add('colab-df-spinner');\n",
              "          try {\n",
              "            const charts = await google.colab.kernel.invokeFunction(\n",
              "                'suggestCharts', [key], {});\n",
              "          } catch (error) {\n",
              "            console.error('Error during call to suggestCharts:', error);\n",
              "          }\n",
              "          quickchartButtonEl.classList.remove('colab-df-spinner');\n",
              "          quickchartButtonEl.classList.add('colab-df-quickchart-complete');\n",
              "        }\n",
              "        (() => {\n",
              "          let quickchartButtonEl =\n",
              "            document.querySelector('#df-cc869172-04f0-45c0-bca9-0218c8735c9c button');\n",
              "          quickchartButtonEl.style.display =\n",
              "            google.colab.kernel.accessAllowed ? 'block' : 'none';\n",
              "        })();\n",
              "      </script>\n",
              "    </div>\n",
              "\n",
              "    </div>\n",
              "  </div>\n"
            ],
            "application/vnd.google.colaboratory.intrinsic+json": {
              "type": "dataframe",
              "summary": "{\n  \"name\": \"df\",\n  \"rows\": 8,\n  \"fields\": [\n    {\n      \"column\": \"price\",\n      \"properties\": {\n        \"dtype\": \"number\",\n        \"std\": 14345.744466496702,\n        \"min\": 1.48e-09,\n        \"max\": 41217.27,\n        \"num_unique_values\": 8,\n        \"samples\": [\n          620.0521274816704,\n          6.955,\n          992.0\n        ],\n        \"semantic_type\": \"\",\n        \"description\": \"\"\n      }\n    },\n    {\n      \"column\": \"1h\",\n      \"properties\": {\n        \"dtype\": \"number\",\n        \"std\": 350.7526551690236,\n        \"min\": -0.704,\n        \"max\": 992.0,\n        \"num_unique_values\": 8,\n        \"samples\": [\n          0.009682459677419356,\n          0.019,\n          992.0\n        ],\n        \"semantic_type\": \"\",\n        \"description\": \"\"\n      }\n    },\n    {\n      \"column\": \"24h\",\n      \"properties\": {\n        \"dtype\": \"number\",\n        \"std\": 350.72179961642416,\n        \"min\": -0.646,\n        \"max\": 992.0,\n        \"num_unique_values\": 8,\n        \"samples\": [\n          0.024018145161290323,\n          0.035,\n          992.0\n        ],\n        \"semantic_type\": \"\",\n        \"description\": \"\"\n      }\n    },\n    {\n      \"column\": \"7d\",\n      \"properties\": {\n        \"dtype\": \"number\",\n        \"std\": 350.5117033253418,\n        \"min\": -0.558,\n        \"max\": 992.0,\n        \"num_unique_values\": 8,\n        \"samples\": [\n          0.02355846774193549,\n          0.037,\n          992.0\n        ],\n        \"semantic_type\": \"\",\n        \"description\": \"\"\n      }\n    },\n    {\n      \"column\": \"24h_volume\",\n      \"properties\": {\n        \"dtype\": \"number\",\n        \"std\": 20348485318.281116,\n        \"min\": 0.0,\n        \"max\": 57934969077.0,\n        \"num_unique_values\": 8,\n        \"samples\": [\n          288463845.5999496,\n          39472221.0,\n          992.0\n        ],\n        \"semantic_type\": \"\",\n        \"description\": \"\"\n      }\n    },\n    {\n      \"column\": \"mkt_cap\",\n      \"properties\": {\n        \"dtype\": \"number\",\n        \"std\": 272531736787.7071,\n        \"min\": 992.0,\n        \"max\": 776077000000.0,\n        \"num_unique_values\": 8,\n        \"samples\": [\n          3783949246.001008,\n          597249311.25,\n          992.0\n        ],\n        \"semantic_type\": \"\",\n        \"description\": \"\"\n      }\n    },\n    {\n      \"column\": \"date\",\n      \"properties\": {\n        \"dtype\": \"date\",\n        \"min\": \"1970-01-01 00:00:00.000000992\",\n        \"max\": \"2022-03-17 00:00:00\",\n        \"num_unique_values\": 4,\n        \"samples\": [\n          \"2022-03-16 11:58:32.903225856\",\n          \"2022-03-17 00:00:00\",\n          \"992\"\n        ],\n        \"semantic_type\": \"\",\n        \"description\": \"\"\n      }\n    }\n  ]\n}"
            }
          },
          "metadata": {},
          "execution_count": 24
        }
      ]
    },
    {
      "cell_type": "markdown",
      "source": [
        "Insights:\n",
        "\n",
        "\n",
        "*   The Data is only includes two days: March 16th and 17th, 2022.\n",
        "*   1h, 24h, 7d, 24th volume has null values and we have to handle that null values.\n",
        "*   Some coins are quite inexpensive, while others are siginificantly more expensive like over $40,000.\n",
        "*   The amount of money traded (volume) and total value (market cap) is very different for each coin.\n",
        "*  Some coins increased in value, while others decreased over the past hour, day and week.\n",
        "\n",
        "\n",
        "\n",
        "\n"
      ],
      "metadata": {
        "id": "mufM-onYsKDT"
      }
    },
    {
      "cell_type": "markdown",
      "source": [
        "Correlation Heatmap"
      ],
      "metadata": {
        "id": "hbV9jSBqvgHw"
      }
    },
    {
      "cell_type": "markdown",
      "source": [
        "Correlation heatmap is a graphical representation of the correlation matrix between multiple variables.This helps us understand how variables are related to each other."
      ],
      "metadata": {
        "id": "XIU084U-vwha"
      }
    },
    {
      "cell_type": "code",
      "source": [
        "numeric_df = df.select_dtypes(include=['float64', 'int64'])\n",
        "correlation_matrix = numeric_df.corr()\n",
        "\n",
        "plt.figure(figsize=(10, 8))\n",
        "sns.heatmap(correlation_matrix, annot=True, cmap='coolwarm', linewidths=0.5)\n",
        "plt.title('Correlation Between Numeric Features')\n",
        "plt.show()"
      ],
      "metadata": {
        "colab": {
          "base_uri": "https://localhost:8080/",
          "height": 699
        },
        "id": "EsW3dJAUsFWB",
        "outputId": "2ee0aee6-ca6e-4c3e-d886-4a89e230803e"
      },
      "execution_count": null,
      "outputs": [
        {
          "output_type": "display_data",
          "data": {
            "text/plain": [
              "<Figure size 1000x800 with 2 Axes>"
            ],
            "image/png": "[encoded data removed]"
          },
          "metadata": {}
        }
      ]
    },
    {
      "cell_type": "markdown",
      "source": [
        "Insights:\n",
        "\n",
        "\n",
        "*  Price and market cap show a strong positive correlation — as the price increases, the market cap tends to increase as well.\n",
        "*   24h trading volume also has a positive relationship with market cap, indicating that higher trading activity is often associated with larger market capitalizations.\n",
        "* In contrast, the 1h, 24h, and 7d price changes do not show a strong correlation with either price or volume, suggesting that short-term fluctuations are relatively independent of overall size or activity levels.\n"
      ],
      "metadata": {
        "id": "HHfXTiLPzS_X"
      }
    },
    {
      "cell_type": "markdown",
      "source": [
        "Visualization"
      ],
      "metadata": {
        "id": "8O-S50lUzu3y"
      }
    },
    {
      "cell_type": "markdown",
      "source": [
        "Price Over Time(Bitcoin example)"
      ],
      "metadata": {
        "id": "iU4P8mIVzwzH"
      }
    },
    {
      "cell_type": "code",
      "source": [
        "btc_df = df[df['coin'] == \"Bitcoin\"]\n",
        "\n",
        "plt.figure(figsize=(12, 6))\n",
        "plt.plot(btc_df['date'], btc_df['price'], label='Bitcoin Price', color='blue', marker='o')\n",
        "plt.title('Bitcoin Price Over Time')\n",
        "plt.xlabel('Date')\n",
        "plt.ylabel(\"Price (USD)\")\n",
        "plt.legend()\n",
        "plt.grid(True)\n",
        "plt.show()\n"
      ],
      "metadata": {
        "colab": {
          "base_uri": "https://localhost:8080/",
          "height": 564
        },
        "id": "X19qVChYyinZ",
        "outputId": "3814500f-e93d-4829-e224-f1cb7295cd0a"
      },
      "execution_count": null,
      "outputs": [
        {
          "output_type": "display_data",
          "data": {
            "text/plain": [
              "<Figure size 1200x600 with 1 Axes>"
            ],
            "image/png": "[encoded data removed]"
          },
          "metadata": {}
        }
      ]
    },
    {
      "cell_type": "markdown",
      "source": [
        "Report:\n",
        "*   Bitcoin's price movement over the past two days appears to show a slight upward/downward trend.\n",
        "*   Analyzing a longer time period provides a clearer view of overall price trends and patterns.\n",
        "*   Visualizing price over time (e.g., with a line chart) makes it easier to spot sudden changes, spikes, or drops in the market.\n",
        "\n",
        "\n",
        "\n",
        "\n",
        "\n",
        "\n"
      ],
      "metadata": {
        "id": "ptA7gStM1F9y"
      }
    },
    {
      "cell_type": "markdown",
      "source": [
        "#Feature Engineering"
      ],
      "metadata": {
        "id": "6fWRQdva1pXW"
      }
    },
    {
      "cell_type": "markdown",
      "source": [
        "Feature enginerring is the process of manipulating and transforming features to convert data into a format that amachine learning model can effectively work with."
      ],
      "metadata": {
        "id": "ff412HLn14ni"
      }
    },
    {
      "cell_type": "markdown",
      "source": [
        "**Creating Moving Averages:**\n"
      ],
      "metadata": {
        "id": "uVAQbQOP2ekD"
      }
    },
    {
      "cell_type": "code",
      "source": [
        "#Sort by date first (important for moving average)\n",
        "df = df.sort_values('date')\n",
        "\n",
        "#Create a 2-day moving average of price\n",
        "df['price_ma_2'] = df['price'].rolling(window=2).mean()\n",
        "\n",
        "#Create a 2-day moving average of market cap\n",
        "df['mkt_cap_ma_2'] = df['mkt_cap'].rolling(window=2).mean()\n",
        "\n",
        "print(df[['price', 'price_ma_2','mkt_cap', 'mkt_cap_ma_2']].head())"
      ],
      "metadata": {
        "colab": {
          "base_uri": "https://localhost:8080/"
        },
        "id": "LUmTEfJ71Fus",
        "outputId": "07010149-0505-4b23-ce8a-2471b0b8add9"
      },
      "execution_count": null,
      "outputs": [
        {
          "output_type": "stream",
          "name": "stdout",
          "text": [
            "            price   price_ma_2       mkt_cap  mkt_cap_ma_2\n",
            "0    4.085946e+04          NaN  7.709910e+11           NaN\n",
            "340  7.960000e+00  20433.71000  1.302007e+08  3.855606e+11\n",
            "339  2.949200e-01      4.12746  1.327759e+08  1.314883e+08\n",
            "338  3.050000e-09      0.14746  1.329136e+08  1.328448e+08\n",
            "337  1.010000e+00      0.50500  1.329540e+08  1.329338e+08\n"
          ]
        }
      ]
    },
    {
      "cell_type": "markdown",
      "source": [
        "**We applied moving averages to smooth out fluctuations in price and market cap, making the underlying trends clearer and easier for the model to interpret.**"
      ],
      "metadata": {
        "id": "m8UAbq9Z35UI"
      }
    },
    {
      "cell_type": "markdown",
      "source": [
        "**Creating Voltality Feature:**"
      ],
      "metadata": {
        "id": "Rymlj1dM4AqU"
      }
    },
    {
      "cell_type": "code",
      "source": [
        "#Calculate simple voltality as absolute change between 24h and 1h returns\n",
        "df ['volatility'] = (df['24h'] - df['1h']).abs()\n",
        "print(df[['1h', '24h', 'volatility']].head())"
      ],
      "metadata": {
        "colab": {
          "base_uri": "https://localhost:8080/"
        },
        "id": "w1kImn-70qGn",
        "outputId": "2da5f0e9-4dde-4de1-a1b2-f50feefc7617"
      },
      "execution_count": null,
      "outputs": [
        {
          "output_type": "stream",
          "name": "stdout",
          "text": [
            "        1h    24h  volatility\n",
            "0    0.022  0.030       0.008\n",
            "340  0.017  0.008       0.009\n",
            "339  0.023  0.010       0.013\n",
            "338  0.012 -0.005       0.017\n",
            "337  0.001  0.000       0.001\n"
          ]
        }
      ]
    },
    {
      "cell_type": "markdown",
      "source": [
        "Observation:\n",
        "I created a new feature called volatility, which quantifies the price fluctuation between 1-hour and 24-hour returns. It serves as an indicator of the coin's stability — higher volatility reflects larger price swings and increased risk"
      ],
      "metadata": {
        "id": "cq1euWPN40FI"
      }
    },
    {
      "cell_type": "markdown",
      "source": [
        "**Creating Liquidity Ratio:**"
      ],
      "metadata": {
        "id": "m13F8Ju350jf"
      }
    },
    {
      "cell_type": "code",
      "source": [
        "df['liquidity_ratio'] = df['24h_volume'] / df['mkt_cap']\n",
        "print(df[['24h_volume', 'mkt_cap', 'liquidity_ratio']].head())"
      ],
      "metadata": {
        "colab": {
          "base_uri": "https://localhost:8080/"
        },
        "id": "_rXwXdgC4lXc",
        "outputId": "af6fef2e-383d-4b9e-d044-399cb5632dd0"
      },
      "execution_count": null,
      "outputs": [
        {
          "output_type": "stream",
          "name": "stdout",
          "text": [
            "       24h_volume       mkt_cap  liquidity_ratio\n",
            "0    3.539076e+10  7.709910e+11         0.045903\n",
            "340  1.069360e+06  1.302007e+08         0.008213\n",
            "339  3.041720e+03  1.327759e+08         0.000023\n",
            "338  1.894020e+05  1.329136e+08         0.001425\n",
            "337  1.793090e+05  1.329540e+08         0.001349\n"
          ]
        }
      ]
    },
    {
      "cell_type": "markdown",
      "source": [
        "Observation:\n",
        "I created a new feature called liquidity ratio, which measures trading activity relative to the coin's total market size. A higher liquidity ratio indicates that the coin is actively traded, making it easier to buy or sell with minimal price impact."
      ],
      "metadata": {
        "id": "mmDJ1_iw6aea"
      }
    },
    {
      "cell_type": "markdown",
      "source": [
        "#Model Selection:"
      ],
      "metadata": {
        "id": "Z_VFdp1v69FV"
      }
    },
    {
      "cell_type": "markdown",
      "source": [
        "**Choosing the model:**"
      ],
      "metadata": {
        "id": "a6ml9JOs7ISc"
      }
    },
    {
      "cell_type": "markdown",
      "source": [
        "Our goal is to predict a numerical value — the liquidity ratio — rather than a category like 'yes' or 'no'. For such tasks, we use regression models.\n",
        "\n",
        "To start, I'm using Linear Regression, a simple yet effective model that fits a straight line through the data to capture the relationship between features and the target variable.\n",
        "\n",
        "Linear Regression is a good starting point for baseline performance. If needed, we can explore more advanced models like Random Forest or XGBoost later to improve accuracy."
      ],
      "metadata": {
        "id": "iINepAf38ACd"
      }
    },
    {
      "cell_type": "markdown",
      "source": [
        "**Preparing Data Model for TRianing:**"
      ],
      "metadata": {
        "id": "D7eZGJzd9VEa"
      }
    },
    {
      "cell_type": "code",
      "source": [
        "#importing the tool to split data\n",
        "from sklearn.model_selection import train_test_split\n",
        "\n",
        "#Choosing input features (X) and target varibale(y)\n",
        "X = df[['price', 'mkt_cap', '24h_volume', 'volatility']]\n",
        "y = df['liquidity_ratio']\n",
        "\n",
        "#Splitting into 80% training and 20% testing\n",
        "# Corrected the typo: y_treain changed to y_train\n",
        "X_train, X_test, y_train, y_test = train_test_split(X, y, test_size=0.2, random_state=42)\n",
        "\n",
        "print(\"Training set sizes:\", X_train.shape)\n",
        "print(\"Testing set sizes:\", X_test.shape)"
      ],
      "metadata": {
        "colab": {
          "base_uri": "https://localhost:8080/"
        },
        "id": "AoZx-eC-6UP7",
        "outputId": "d66103e9-5684-4485-c68f-d76af3c94ece"
      },
      "execution_count": null,
      "outputs": [
        {
          "output_type": "stream",
          "name": "stdout",
          "text": [
            "Training set sizes: (793, 4)\n",
            "Testing set sizes: (199, 4)\n"
          ]
        }
      ]
    },
    {
      "cell_type": "markdown",
      "source": [
        "**Training the model:**"
      ],
      "metadata": {
        "id": "kvrky4yk-nh4"
      }
    },
    {
      "cell_type": "code",
      "source": [
        "#Import Linear Regression model\n",
        "from sklearn.linear_model import LinearRegression\n",
        "\n",
        "#Create the model\n",
        "model = LinearRegression()\n",
        "\n",
        "#Train the model using the training data\n",
        "model.fit(X_train, y_train)\n",
        "\n",
        "print(\"Model training completed\")"
      ],
      "metadata": {
        "colab": {
          "base_uri": "https://localhost:8080/"
        },
        "id": "lpmcovl2-i0m",
        "outputId": "7efdcbbe-5de6-430e-eaad-a1b466f8f8c2"
      },
      "execution_count": null,
      "outputs": [
        {
          "output_type": "stream",
          "name": "stdout",
          "text": [
            "Model training completed\n"
          ]
        }
      ]
    },
    {
      "cell_type": "markdown",
      "source": [
        "**Model Evaluation:**"
      ],
      "metadata": {
        "id": "7bmlTk4M_Xne"
      }
    },
    {
      "cell_type": "code",
      "source": [
        "#Import evaluation metrics\n",
        "from sklearn.metrics import mean_absolute_error, mean_squared_error, r2_score\n",
        "\n",
        "#Predict on the test set\n",
        "y_pred = model.predict(X_test)\n",
        "\n",
        "#Calculate evaluation metrics\n",
        "mae = mean_absolute_error(y_test, y_pred)\n",
        "rmse = np.sqrt(mean_squared_error(y_test, y_pred))\n",
        "r2 = r2_score(y_test, y_pred)\n",
        "\n",
        "print(f\"Mean Absolute Error: {mae}\")\n",
        "print(f\"Root Mean Squared Error: {rmse}\")\n",
        "print(f\"R-squared: {r2}\")"
      ],
      "metadata": {
        "colab": {
          "base_uri": "https://localhost:8080/"
        },
        "id": "_weucn_M_D6i",
        "outputId": "0bcb70ef-9bd5-451b-9d03-78e2dbdfbe34"
      },
      "execution_count": null,
      "outputs": [
        {
          "output_type": "stream",
          "name": "stdout",
          "text": [
            "Mean Absolute Error: 0.11763151664088131\n",
            "Root Mean Squared Error: 0.34370980160653913\n",
            "R-squared: -0.055077185720724176\n"
          ]
        }
      ]
    },
    {
      "cell_type": "markdown",
      "source": [
        "Observation:\n",
        "The model is running, but its performance is not satisfactory. The prediction errors are relatively high, and the R² score is negative — which indicates that the model is performing worse than simply predicting the mean. This suggests the model is not effectively learning the underlying patterns in the data.\n",
        "\n",
        "To improve performance, we need to enhance the model — either by refining features, trying more complex algorithms, or tuning hyperparameters."
      ],
      "metadata": {
        "id": "WKmRFkv_BGH6"
      }
    },
    {
      "cell_type": "markdown",
      "source": [
        "#Hyperparameter Tuning"
      ],
      "metadata": {
        "id": "h9aZli9xBTHK"
      }
    },
    {
      "cell_type": "code",
      "source": [
        "from sklearn.model_selection import GridSearchCV\n",
        "\n",
        "#Define the model\n",
        "from sklearn.ensemble import RandomForestRegressor\n",
        "model = RandomForestRegressor(random_state=42)\n",
        "\n",
        "#Define parameter grid\n",
        "param_grid = {\n",
        "    'n_estimators': [50, 100, 150],\n",
        "    'max_depth': [5, 10, 15]\n",
        "}\n",
        "\n",
        "#Set up GridSearch\n",
        "grid_search = GridSearchCV(estimator=model, param_grid=param_grid, cv=5, scoring='r2', n_jobs=-1)\n",
        "\n",
        "#Fit the model\n",
        "grid_search.fit(X_train, y_train)\n",
        "\n",
        "#Best Parameters\n",
        "print(\"Best Parameters Found:\", grid_search.best_params_)"
      ],
      "metadata": {
        "colab": {
          "base_uri": "https://localhost:8080/"
        },
        "id": "RHgHmSz4A3EW",
        "outputId": "ad79abd6-c227-4a7e-d35c-292a36d1d031"
      },
      "execution_count": null,
      "outputs": [
        {
          "output_type": "stream",
          "name": "stdout",
          "text": [
            "Best Parameters Found: {'max_depth': 10, 'n_estimators': 150}\n"
          ]
        }
      ]
    },
    {
      "cell_type": "markdown",
      "source": [
        "**Training model again with best parameters:**\n"
      ],
      "metadata": {
        "id": "jJ4r1BJUCsXU"
      }
    },
    {
      "cell_type": "code",
      "source": [
        "#Train the model again using the best parameters\n",
        "best_model = RandomForestRegressor(n_estimators=150, max_depth=5, random_state=42)\n",
        "\n",
        "#Fit on training data\n",
        "best_model.fit(X_train, y_train)\n"
      ],
      "metadata": {
        "colab": {
          "base_uri": "https://localhost:8080/",
          "height": 80
        },
        "id": "C9kT7UFGClZ0",
        "outputId": "37b0b438-cf8e-48c4-9b6b-fdd5c3fbff17"
      },
      "execution_count": null,
      "outputs": [
        {
          "output_type": "execute_result",
          "data": {
            "text/plain": [
              "RandomForestRegressor(max_depth=5, n_estimators=150, random_state=42)"
            ],
            "text/html": [
              "<style>#sk-container-id-1 {\n",
              "  /* Definition of color scheme common for light and dark mode */\n",
              "  --sklearn-color-text: #000;\n",
              "  --sklearn-color-text-muted: #666;\n",
              "  --sklearn-color-line: gray;\n",
              "  /* Definition of color scheme for unfitted estimators */\n",
              "  --sklearn-color-unfitted-level-0: #fff5e6;\n",
              "  --sklearn-color-unfitted-level-1: #f6e4d2;\n",
              "  --sklearn-color-unfitted-level-2: #ffe0b3;\n",
              "  --sklearn-color-unfitted-level-3: chocolate;\n",
              "  /* Definition of color scheme for fitted estimators */\n",
              "  --sklearn-color-fitted-level-0: #f0f8ff;\n",
              "  --sklearn-color-fitted-level-1: #d4ebff;\n",
              "  --sklearn-color-fitted-level-2: #b3dbfd;\n",
              "  --sklearn-color-fitted-level-3: cornflowerblue;\n",
              "\n",
              "  /* Specific color for light theme */\n",
              "  --sklearn-color-text-on-default-background: var(--sg-text-color, var(--theme-code-foreground, var(--jp-content-font-color1, black)));\n",
              "  --sklearn-color-background: var(--sg-background-color, var(--theme-background, var(--jp-layout-color0, white)));\n",
              "  --sklearn-color-border-box: var(--sg-text-color, var(--theme-code-foreground, var(--jp-content-font-color1, black)));\n",
              "  --sklearn-color-icon: #696969;\n",
              "\n",
              "  @media (prefers-color-scheme: dark) {\n",
              "    /* Redefinition of color scheme for dark theme */\n",
              "    --sklearn-color-text-on-default-background: var(--sg-text-color, var(--theme-code-foreground, var(--jp-content-font-color1, white)));\n",
              "    --sklearn-color-background: var(--sg-background-color, var(--theme-background, var(--jp-layout-color0, #111)));\n",
              "    --sklearn-color-border-box: var(--sg-text-color, var(--theme-code-foreground, var(--jp-content-font-color1, white)));\n",
              "    --sklearn-color-icon: #878787;\n",
              "  }\n",
              "}\n",
              "\n",
              "#sk-container-id-1 {\n",
              "  color: var(--sklearn-color-text);\n",
              "}\n",
              "\n",
              "#sk-container-id-1 pre {\n",
              "  padding: 0;\n",
              "}\n",
              "\n",
              "#sk-container-id-1 input.sk-hidden--visually {\n",
              "  border: 0;\n",
              "  clip: rect(1px 1px 1px 1px);\n",
              "  clip: rect(1px, 1px, 1px, 1px);\n",
              "  height: 1px;\n",
              "  margin: -1px;\n",
              "  overflow: hidden;\n",
              "  padding: 0;\n",
              "  position: absolute;\n",
              "  width: 1px;\n",
              "}\n",
              "\n",
              "#sk-container-id-1 div.sk-dashed-wrapped {\n",
              "  border: 1px dashed var(--sklearn-color-line);\n",
              "  margin: 0 0.4em 0.5em 0.4em;\n",
              "  box-sizing: border-box;\n",
              "  padding-bottom: 0.4em;\n",
              "  background-color: var(--sklearn-color-background);\n",
              "}\n",
              "\n",
              "#sk-container-id-1 div.sk-container {\n",
              "  /* jupyter's `normalize.less` sets `[hidden] { display: none; }`\n",
              "     but bootstrap.min.css set `[hidden] { display: none !important; }`\n",
              "     so we also need the `!important` here to be able to override the\n",
              "     default hidden behavior on the sphinx rendered scikit-learn.org.\n",
              "     See: https://github.com/scikit-learn/scikit-learn/issues/21755 */\n",
              "  display: inline-block !important;\n",
              "  position: relative;\n",
              "}\n",
              "\n",
              "#sk-container-id-1 div.sk-text-repr-fallback {\n",
              "  display: none;\n",
              "}\n",
              "\n",
              "div.sk-parallel-item,\n",
              "div.sk-serial,\n",
              "div.sk-item {\n",
              "  /* draw centered vertical line to link estimators */\n",
              "  background-image: linear-gradient(var(--sklearn-color-text-on-default-background), var(--sklearn-color-text-on-default-background));\n",
              "  background-size: 2px 100%;\n",
              "  background-repeat: no-repeat;\n",
              "  background-position: center center;\n",
              "}\n",
              "\n",
              "/* Parallel-specific style estimator block */\n",
              "\n",
              "#sk-container-id-1 div.sk-parallel-item::after {\n",
              "  content: \"\";\n",
              "  width: 100%;\n",
              "  border-bottom: 2px solid var(--sklearn-color-text-on-default-background);\n",
              "  flex-grow: 1;\n",
              "}\n",
              "\n",
              "#sk-container-id-1 div.sk-parallel {\n",
              "  display: flex;\n",
              "  align-items: stretch;\n",
              "  justify-content: center;\n",
              "  background-color: var(--sklearn-color-background);\n",
              "  position: relative;\n",
              "}\n",
              "\n",
              "#sk-container-id-1 div.sk-parallel-item {\n",
              "  display: flex;\n",
              "  flex-direction: column;\n",
              "}\n",
              "\n",
              "#sk-container-id-1 div.sk-parallel-item:first-child::after {\n",
              "  align-self: flex-end;\n",
              "  width: 50%;\n",
              "}\n",
              "\n",
              "#sk-container-id-1 div.sk-parallel-item:last-child::after {\n",
              "  align-self: flex-start;\n",
              "  width: 50%;\n",
              "}\n",
              "\n",
              "#sk-container-id-1 div.sk-parallel-item:only-child::after {\n",
              "  width: 0;\n",
              "}\n",
              "\n",
              "/* Serial-specific style estimator block */\n",
              "\n",
              "#sk-container-id-1 div.sk-serial {\n",
              "  display: flex;\n",
              "  flex-direction: column;\n",
              "  align-items: center;\n",
              "  background-color: var(--sklearn-color-background);\n",
              "  padding-right: 1em;\n",
              "  padding-left: 1em;\n",
              "}\n",
              "\n",
              "\n",
              "/* Toggleable style: style used for estimator/Pipeline/ColumnTransformer box that is\n",
              "clickable and can be expanded/collapsed.\n",
              "- Pipeline and ColumnTransformer use this feature and define the default style\n",
              "- Estimators will overwrite some part of the style using the `sk-estimator` class\n",
              "*/\n",
              "\n",
              "/* Pipeline and ColumnTransformer style (default) */\n",
              "\n",
              "#sk-container-id-1 div.sk-toggleable {\n",
              "  /* Default theme specific background. It is overwritten whether we have a\n",
              "  specific estimator or a Pipeline/ColumnTransformer */\n",
              "  background-color: var(--sklearn-color-background);\n",
              "}\n",
              "\n",
              "/* Toggleable label */\n",
              "#sk-container-id-1 label.sk-toggleable__label {\n",
              "  cursor: pointer;\n",
              "  display: flex;\n",
              "  width: 100%;\n",
              "  margin-bottom: 0;\n",
              "  padding: 0.5em;\n",
              "  box-sizing: border-box;\n",
              "  text-align: center;\n",
              "  align-items: start;\n",
              "  justify-content: space-between;\n",
              "  gap: 0.5em;\n",
              "}\n",
              "\n",
              "#sk-container-id-1 label.sk-toggleable__label .caption {\n",
              "  font-size: 0.6rem;\n",
              "  font-weight: lighter;\n",
              "  color: var(--sklearn-color-text-muted);\n",
              "}\n",
              "\n",
              "#sk-container-id-1 label.sk-toggleable__label-arrow:before {\n",
              "  /* Arrow on the left of the label */\n",
              "  content: \"▸\";\n",
              "  float: left;\n",
              "  margin-right: 0.25em;\n",
              "  color: var(--sklearn-color-icon);\n",
              "}\n",
              "\n",
              "#sk-container-id-1 label.sk-toggleable__label-arrow:hover:before {\n",
              "  color: var(--sklearn-color-text);\n",
              "}\n",
              "\n",
              "/* Toggleable content - dropdown */\n",
              "\n",
              "#sk-container-id-1 div.sk-toggleable__content {\n",
              "  max-height: 0;\n",
              "  max-width: 0;\n",
              "  overflow: hidden;\n",
              "  text-align: left;\n",
              "  /* unfitted */\n",
              "  background-color: var(--sklearn-color-unfitted-level-0);\n",
              "}\n",
              "\n",
              "#sk-container-id-1 div.sk-toggleable__content.fitted {\n",
              "  /* fitted */\n",
              "  background-color: var(--sklearn-color-fitted-level-0);\n",
              "}\n",
              "\n",
              "#sk-container-id-1 div.sk-toggleable__content pre {\n",
              "  margin: 0.2em;\n",
              "  border-radius: 0.25em;\n",
              "  color: var(--sklearn-color-text);\n",
              "  /* unfitted */\n",
              "  background-color: var(--sklearn-color-unfitted-level-0);\n",
              "}\n",
              "\n",
              "#sk-container-id-1 div.sk-toggleable__content.fitted pre {\n",
              "  /* unfitted */\n",
              "  background-color: var(--sklearn-color-fitted-level-0);\n",
              "}\n",
              "\n",
              "#sk-container-id-1 input.sk-toggleable__control:checked~div.sk-toggleable__content {\n",
              "  /* Expand drop-down */\n",
              "  max-height: 200px;\n",
              "  max-width: 100%;\n",
              "  overflow: auto;\n",
              "}\n",
              "\n",
              "#sk-container-id-1 input.sk-toggleable__control:checked~label.sk-toggleable__label-arrow:before {\n",
              "  content: \"▾\";\n",
              "}\n",
              "\n",
              "/* Pipeline/ColumnTransformer-specific style */\n",
              "\n",
              "#sk-container-id-1 div.sk-label input.sk-toggleable__control:checked~label.sk-toggleable__label {\n",
              "  color: var(--sklearn-color-text);\n",
              "  background-color: var(--sklearn-color-unfitted-level-2);\n",
              "}\n",
              "\n",
              "#sk-container-id-1 div.sk-label.fitted input.sk-toggleable__control:checked~label.sk-toggleable__label {\n",
              "  background-color: var(--sklearn-color-fitted-level-2);\n",
              "}\n",
              "\n",
              "/* Estimator-specific style */\n",
              "\n",
              "/* Colorize estimator box */\n",
              "#sk-container-id-1 div.sk-estimator input.sk-toggleable__control:checked~label.sk-toggleable__label {\n",
              "  /* unfitted */\n",
              "  background-color: var(--sklearn-color-unfitted-level-2);\n",
              "}\n",
              "\n",
              "#sk-container-id-1 div.sk-estimator.fitted input.sk-toggleable__control:checked~label.sk-toggleable__label {\n",
              "  /* fitted */\n",
              "  background-color: var(--sklearn-color-fitted-level-2);\n",
              "}\n",
              "\n",
              "#sk-container-id-1 div.sk-label label.sk-toggleable__label,\n",
              "#sk-container-id-1 div.sk-label label {\n",
              "  /* The background is the default theme color */\n",
              "  color: var(--sklearn-color-text-on-default-background);\n",
              "}\n",
              "\n",
              "/* On hover, darken the color of the background */\n",
              "#sk-container-id-1 div.sk-label:hover label.sk-toggleable__label {\n",
              "  color: var(--sklearn-color-text);\n",
              "  background-color: var(--sklearn-color-unfitted-level-2);\n",
              "}\n",
              "\n",
              "/* Label box, darken color on hover, fitted */\n",
              "#sk-container-id-1 div.sk-label.fitted:hover label.sk-toggleable__label.fitted {\n",
              "  color: var(--sklearn-color-text);\n",
              "  background-color: var(--sklearn-color-fitted-level-2);\n",
              "}\n",
              "\n",
              "/* Estimator label */\n",
              "\n",
              "#sk-container-id-1 div.sk-label label {\n",
              "  font-family: monospace;\n",
              "  font-weight: bold;\n",
              "  display: inline-block;\n",
              "  line-height: 1.2em;\n",
              "}\n",
              "\n",
              "#sk-container-id-1 div.sk-label-container {\n",
              "  text-align: center;\n",
              "}\n",
              "\n",
              "/* Estimator-specific */\n",
              "#sk-container-id-1 div.sk-estimator {\n",
              "  font-family: monospace;\n",
              "  border: 1px dotted var(--sklearn-color-border-box);\n",
              "  border-radius: 0.25em;\n",
              "  box-sizing: border-box;\n",
              "  margin-bottom: 0.5em;\n",
              "  /* unfitted */\n",
              "  background-color: var(--sklearn-color-unfitted-level-0);\n",
              "}\n",
              "\n",
              "#sk-container-id-1 div.sk-estimator.fitted {\n",
              "  /* fitted */\n",
              "  background-color: var(--sklearn-color-fitted-level-0);\n",
              "}\n",
              "\n",
              "/* on hover */\n",
              "#sk-container-id-1 div.sk-estimator:hover {\n",
              "  /* unfitted */\n",
              "  background-color: var(--sklearn-color-unfitted-level-2);\n",
              "}\n",
              "\n",
              "#sk-container-id-1 div.sk-estimator.fitted:hover {\n",
              "  /* fitted */\n",
              "  background-color: var(--sklearn-color-fitted-level-2);\n",
              "}\n",
              "\n",
              "/* Specification for estimator info (e.g. \"i\" and \"?\") */\n",
              "\n",
              "/* Common style for \"i\" and \"?\" */\n",
              "\n",
              ".sk-estimator-doc-link,\n",
              "a:link.sk-estimator-doc-link,\n",
              "a:visited.sk-estimator-doc-link {\n",
              "  float: right;\n",
              "  font-size: smaller;\n",
              "  line-height: 1em;\n",
              "  font-family: monospace;\n",
              "  background-color: var(--sklearn-color-background);\n",
              "  border-radius: 1em;\n",
              "  height: 1em;\n",
              "  width: 1em;\n",
              "  text-decoration: none !important;\n",
              "  margin-left: 0.5em;\n",
              "  text-align: center;\n",
              "  /* unfitted */\n",
              "  border: var(--sklearn-color-unfitted-level-1) 1pt solid;\n",
              "  color: var(--sklearn-color-unfitted-level-1);\n",
              "}\n",
              "\n",
              ".sk-estimator-doc-link.fitted,\n",
              "a:link.sk-estimator-doc-link.fitted,\n",
              "a:visited.sk-estimator-doc-link.fitted {\n",
              "  /* fitted */\n",
              "  border: var(--sklearn-color-fitted-level-1) 1pt solid;\n",
              "  color: var(--sklearn-color-fitted-level-1);\n",
              "}\n",
              "\n",
              "/* On hover */\n",
              "div.sk-estimator:hover .sk-estimator-doc-link:hover,\n",
              ".sk-estimator-doc-link:hover,\n",
              "div.sk-label-container:hover .sk-estimator-doc-link:hover,\n",
              ".sk-estimator-doc-link:hover {\n",
              "  /* unfitted */\n",
              "  background-color: var(--sklearn-color-unfitted-level-3);\n",
              "  color: var(--sklearn-color-background);\n",
              "  text-decoration: none;\n",
              "}\n",
              "\n",
              "div.sk-estimator.fitted:hover .sk-estimator-doc-link.fitted:hover,\n",
              ".sk-estimator-doc-link.fitted:hover,\n",
              "div.sk-label-container:hover .sk-estimator-doc-link.fitted:hover,\n",
              ".sk-estimator-doc-link.fitted:hover {\n",
              "  /* fitted */\n",
              "  background-color: var(--sklearn-color-fitted-level-3);\n",
              "  color: var(--sklearn-color-background);\n",
              "  text-decoration: none;\n",
              "}\n",
              "\n",
              "/* Span, style for the box shown on hovering the info icon */\n",
              ".sk-estimator-doc-link span {\n",
              "  display: none;\n",
              "  z-index: 9999;\n",
              "  position: relative;\n",
              "  font-weight: normal;\n",
              "  right: .2ex;\n",
              "  padding: .5ex;\n",
              "  margin: .5ex;\n",
              "  width: min-content;\n",
              "  min-width: 20ex;\n",
              "  max-width: 50ex;\n",
              "  color: var(--sklearn-color-text);\n",
              "  box-shadow: 2pt 2pt 4pt #999;\n",
              "  /* unfitted */\n",
              "  background: var(--sklearn-color-unfitted-level-0);\n",
              "  border: .5pt solid var(--sklearn-color-unfitted-level-3);\n",
              "}\n",
              "\n",
              ".sk-estimator-doc-link.fitted span {\n",
              "  /* fitted */\n",
              "  background: var(--sklearn-color-fitted-level-0);\n",
              "  border: var(--sklearn-color-fitted-level-3);\n",
              "}\n",
              "\n",
              ".sk-estimator-doc-link:hover span {\n",
              "  display: block;\n",
              "}\n",
              "\n",
              "/* \"?\"-specific style due to the `<a>` HTML tag */\n",
              "\n",
              "#sk-container-id-1 a.estimator_doc_link {\n",
              "  float: right;\n",
              "  font-size: 1rem;\n",
              "  line-height: 1em;\n",
              "  font-family: monospace;\n",
              "  background-color: var(--sklearn-color-background);\n",
              "  border-radius: 1rem;\n",
              "  height: 1rem;\n",
              "  width: 1rem;\n",
              "  text-decoration: none;\n",
              "  /* unfitted */\n",
              "  color: var(--sklearn-color-unfitted-level-1);\n",
              "  border: var(--sklearn-color-unfitted-level-1) 1pt solid;\n",
              "}\n",
              "\n",
              "#sk-container-id-1 a.estimator_doc_link.fitted {\n",
              "  /* fitted */\n",
              "  border: var(--sklearn-color-fitted-level-1) 1pt solid;\n",
              "  color: var(--sklearn-color-fitted-level-1);\n",
              "}\n",
              "\n",
              "/* On hover */\n",
              "#sk-container-id-1 a.estimator_doc_link:hover {\n",
              "  /* unfitted */\n",
              "  background-color: var(--sklearn-color-unfitted-level-3);\n",
              "  color: var(--sklearn-color-background);\n",
              "  text-decoration: none;\n",
              "}\n",
              "\n",
              "#sk-container-id-1 a.estimator_doc_link.fitted:hover {\n",
              "  /* fitted */\n",
              "  background-color: var(--sklearn-color-fitted-level-3);\n",
              "}\n",
              "</style><div id=\"sk-container-id-1\" class=\"sk-top-container\"><div class=\"sk-text-repr-fallback\"><pre>RandomForestRegressor(max_depth=5, n_estimators=150, random_state=42)</pre><b>In a Jupyter environment, please rerun this cell to show the HTML representation or trust the notebook. <br />On GitHub, the HTML representation is unable to render, please try loading this page with nbviewer.org.</b></div><div class=\"sk-container\" hidden><div class=\"sk-item\"><div class=\"sk-estimator fitted sk-toggleable\"><input class=\"sk-toggleable__control sk-hidden--visually\" id=\"sk-estimator-id-1\" type=\"checkbox\" checked><label for=\"sk-estimator-id-1\" class=\"sk-toggleable__label fitted sk-toggleable__label-arrow\"><div><div>RandomForestRegressor</div></div><div><a class=\"sk-estimator-doc-link fitted\" rel=\"noreferrer\" target=\"_blank\" href=\"https://scikit-learn.org/1.6/modules/generated/sklearn.ensemble.RandomForestRegressor.html\">?<span>Documentation for RandomForestRegressor</span></a><span class=\"sk-estimator-doc-link fitted\">i<span>Fitted</span></span></div></label><div class=\"sk-toggleable__content fitted\"><pre>RandomForestRegressor(max_depth=5, n_estimators=150, random_state=42)</pre></div> </div></div></div></div>"
            ]
          },
          "metadata": {},
          "execution_count": 34
        }
      ]
    },
    {
      "cell_type": "code",
      "source": [
        "#Predict\n",
        "y_pred_best = best_model.predict(X_test)\n",
        "\n",
        "#Evalute\n",
        "rmse_best = np.sqrt(mean_squared_error(y_test, y_pred_best))\n",
        "r2_best = r2_score(y_test, y_pred_best)\n",
        "mae_best = mean_absolute_error(y_test, y_pred_best)\n",
        "\n",
        "print(f\"Mean Absolute Error: {mae_best}\")\n",
        "print(f\"Root Mean Squared Error: {rmse_best}\")\n",
        "print(f\"R-squared: {r2_best}\")"
      ],
      "metadata": {
        "colab": {
          "base_uri": "https://localhost:8080/"
        },
        "id": "AcWOJzICDBqF",
        "outputId": "2a5f0876-530b-4210-e57c-6be1c14e6f69"
      },
      "execution_count": null,
      "outputs": [
        {
          "output_type": "stream",
          "name": "stdout",
          "text": [
            "Mean Absolute Error: 0.034043732566284096\n",
            "Root Mean Squared Error: 0.11624188074562085\n",
            "R-squared: 0.879322680755731\n"
          ]
        }
      ]
    },
    {
      "cell_type": "markdown",
      "source": [
        "Observation:\n",
        "After tuning the model, the prediction errors significantly decreased, and the overall accuracy improved. The model is now able to predict the liquidity ratio with much greater reliability."
      ],
      "metadata": {
        "id": "nfvXWm7GwAV1"
      }
    },
    {
      "cell_type": "markdown",
      "source": [
        "**Testing the model on unseen (test) data and watching some predictions:**"
      ],
      "metadata": {
        "id": "8stJ7ClIwNc9"
      }
    },
    {
      "cell_type": "code",
      "source": [
        "#Predict on test data\n",
        "Y_pred_test = best_model.predict(X_test)\n",
        "\n",
        "#Comparison between some real & predicted value\n",
        "Comparison = pd.DataFrame({'Real': y_test, 'Predicted': Y_pred_test})\n",
        "print(Comparison.head(10))"
      ],
      "metadata": {
        "colab": {
          "base_uri": "https://localhost:8080/"
        },
        "id": "VTuQbEUQDOmF",
        "outputId": "f8b8ed3b-7d01-4e29-869e-65749bc952b6"
      },
      "execution_count": null,
      "outputs": [
        {
          "output_type": "stream",
          "name": "stdout",
          "text": [
            "         Real  Predicted\n",
            "376  0.120092   0.752001\n",
            "8    0.036105   0.163963\n",
            "834  0.064324   0.075432\n",
            "62   0.153632   0.116592\n",
            "252  0.010830   0.012223\n",
            "864  0.569074   0.543587\n",
            "94   0.007854   0.025044\n",
            "295  0.007353   0.007169\n",
            "343  0.003577   0.003889\n",
            "839  0.000058   0.003306\n"
          ]
        }
      ]
    },
    {
      "cell_type": "markdown",
      "source": [
        "Observation:\n",
        "The model’s predicted liquidity values closely match the actual values for many coins. While there are minor differences, overall performance has improved significantly after tuning. For example, in high-liquidity cases such as an actual value of 0.569074, the model predicted 0.543587 — demonstrating strong accuracy."
      ],
      "metadata": {
        "id": "9fGzRJyLwtVy"
      }
    },
    {
      "cell_type": "markdown",
      "source": [
        "**Saving the trained model:**"
      ],
      "metadata": {
        "id": "8nl2B2Uhw7tB"
      }
    },
    {
      "cell_type": "code",
      "source": [
        "import joblib\n",
        "\n",
        "#Save the model to a file\n",
        "joblib.dump(best_model, 'liquidity_prediction_model.pkl')\n",
        "print(\" Model Saved successfully\")"
      ],
      "metadata": {
        "colab": {
          "base_uri": "https://localhost:8080/"
        },
        "id": "WfUPfaX3wrJW",
        "outputId": "474d2441-28fe-489f-fb07-8751347989c9"
      },
      "execution_count": null,
      "outputs": [
        {
          "output_type": "stream",
          "name": "stdout",
          "text": [
            " Model Saved successfully\n"
          ]
        }
      ]
    },
    {
      "cell_type": "markdown",
      "source": [
        "**Loading the model:**"
      ],
      "metadata": {
        "id": "C7MF_qN-xOjX"
      }
    },
    {
      "cell_type": "code",
      "source": [
        "#Load the model from the file\n",
        "loaded_model = joblib.load('liquidity_prediction_model.pkl')\n",
        "\n",
        "#Test loading by predicting again\n",
        "sample_pred = loaded_model.predict(X_test[:5])\n",
        "print(\"Sample Predictions:\", sample_pred)"
      ],
      "metadata": {
        "colab": {
          "base_uri": "https://localhost:8080/"
        },
        "id": "xiKtm2JwxMmr",
        "outputId": "ffe0668e-3a21-44c0-a337-b12b208bac55"
      },
      "execution_count": null,
      "outputs": [
        {
          "output_type": "stream",
          "name": "stdout",
          "text": [
            "Sample Predictions: [0.75200088 0.16396348 0.07543161 0.11659179 0.01222347]\n"
          ]
        }
      ]
    },
    {
      "cell_type": "markdown",
      "source": [
        "Conclusion:\n",
        "\n",
        "In this project, we focused on predicting cryptocurrency liquidity as a way to better understand and assess market stability.\n",
        "\n",
        "We began with data cleaning and exploratory analysis, followed by the creation of meaningful features such as moving averages and volatility to extract deeper market insights. To model liquidity, we used a Random Forest Regressor, a robust machine learning algorithm suited for non-linear relationships.\n",
        "\n",
        "Initially, the model's performance was limited, but after applying hyperparameter tuning, the results improved significantly — achieving an R² score of 0.87. This indicates that the model can now accurately predict how easily a cryptocurrency can be bought or sold, which is critical for assessing market risk and trade efficiency."
      ],
      "metadata": {
        "id": "TgZwD-3syGGH"
      }
    },
    {
      "cell_type": "code",
      "source": [
        "#Correlation Heatmap\n",
        "plt.figure(figsize=(10, 8))\n",
        "sns.heatmap(correlation_matrix, annot=True, cmap='coolwarm', linewidths=0.5)\n",
        "plt.title('Correlation Between Numeric Features')\n",
        "\n",
        "#Save Heatmap\n",
        "plt.savefig('correlation_heatmap.png')\n",
        "plt.show()"
      ],
      "metadata": {
        "colab": {
          "base_uri": "https://localhost:8080/",
          "height": 699
        },
        "id": "U8bn4_BvxqHQ",
        "outputId": "47c89375-7e1a-47cf-ccbe-96f12a7ca9e8"
      },
      "execution_count": null,
      "outputs": [
        {
          "output_type": "display_data",
          "data": {
            "text/plain": [
              "<Figure size 1000x800 with 2 Axes>"
            ],
            "image/png": "[encoded data removed]"
          },
          "metadata": {}
        }
      ]
    },
    {
      "cell_type": "code",
      "source": [
        "#Plot Bitcoin over time\n",
        "btc_df = df[df['coin'] == \"Bitcoin\"]\n",
        "\n",
        "plt.figure(figsize=(12, 6))\n",
        "plt.plot(btc_df['date'], btc_df['price'], label='Bitcoin Price', color='blue', marker='o')\n",
        "plt.title('Bitcoin Price Over Time')\n",
        "plt.xlabel('Date')\n",
        "plt.ylabel(\"Price (USD)\")\n",
        "plt.legend()\n",
        "plt.grid(True)\n",
        "\n",
        "#Save Bitcoin Plot\n",
        "plt.savefig('bitcoin_price_over_time.png')\n",
        "plt.show()"
      ],
      "metadata": {
        "colab": {
          "base_uri": "https://localhost:8080/",
          "height": 564
        },
        "id": "sGHaodYyyopo",
        "outputId": "26e7ae8a-fdd5-4103-ef32-279545d95764"
      },
      "execution_count": null,
      "outputs": [
        {
          "output_type": "display_data",
          "data": {
            "text/plain": [
              "<Figure size 1200x600 with 1 Axes>"
            ],
            "image/png": "[encoded data removed]"
          },
          "metadata": {}
        }
      ]
    },
    {
      "cell_type": "code",
      "source": [
        "from google.colab import files\n",
        "files.download('correlation_heatmap.png')\n",
        "files.download('bitcoin_price_over_time.png')"
      ],
      "metadata": {
        "colab": {
          "base_uri": "https://localhost:8080/",
          "height": 17
        },
        "id": "45nBimXozAbe",
        "outputId": "dde1d63f-62d7-4b93-ef5f-bdb2ed9096e5"
      },
      "execution_count": null,
      "outputs": [
        {
          "output_type": "display_data",
          "data": {
            "text/plain": [
              "<IPython.core.display.Javascript object>"
            ],
            "application/javascript": [
              "\n",
              "    async function download(id, filename, size) {\n",
              "      if (!google.colab.kernel.accessAllowed) {\n",
              "        return;\n",
              "      }\n",
              "      const div = document.createElement('div');\n",
              "      const label = document.createElement('label');\n",
              "      label.textContent = `Downloading \"${filename}\": `;\n",
              "      div.appendChild(label);\n",
              "      const progress = document.createElement('progress');\n",
              "      progress.max = size;\n",
              "      div.appendChild(progress);\n",
              "      document.body.appendChild(div);\n",
              "\n",
              "      const buffers = [];\n",
              "      let downloaded = 0;\n",
              "\n",
              "      const channel = await google.colab.kernel.comms.open(id);\n",
              "      // Send a message to notify the kernel that we're ready.\n",
              "      channel.send({})\n",
              "\n",
              "      for await (const message of channel.messages) {\n",
              "        // Send a message to notify the kernel that we're ready.\n",
              "        channel.send({})\n",
              "        if (message.buffers) {\n",
              "          for (const buffer of message.buffers) {\n",
              "            buffers.push(buffer);\n",
              "            downloaded += buffer.byteLength;\n",
              "            progress.value = downloaded;\n",
              "          }\n",
              "        }\n",
              "      }\n",
              "      const blob = new Blob(buffers, {type: 'application/binary'});\n",
              "      const a = document.createElement('a');\n",
              "      a.href = window.URL.createObjectURL(blob);\n",
              "      a.download = filename;\n",
              "      div.appendChild(a);\n",
              "      a.click();\n",
              "      div.remove();\n",
              "    }\n",
              "  "
            ]
          },
          "metadata": {}
        },
        {
          "output_type": "display_data",
          "data": {
            "text/plain": [
              "<IPython.core.display.Javascript object>"
            ],
            "application/javascript": [
              "download(\"download_6152a3cb-4d81-432a-9e76-3cef8533a620\", \"correlation_heatmap.png\", 49142)"
            ]
          },
          "metadata": {}
        },
        {
          "output_type": "display_data",
          "data": {
            "text/plain": [
              "<IPython.core.display.Javascript object>"
            ],
            "application/javascript": [
              "\n",
              "    async function download(id, filename, size) {\n",
              "      if (!google.colab.kernel.accessAllowed) {\n",
              "        return;\n",
              "      }\n",
              "      const div = document.createElement('div');\n",
              "      const label = document.createElement('label');\n",
              "      label.textContent = `Downloading \"${filename}\": `;\n",
              "      div.appendChild(label);\n",
              "      const progress = document.createElement('progress');\n",
              "      progress.max = size;\n",
              "      div.appendChild(progress);\n",
              "      document.body.appendChild(div);\n",
              "\n",
              "      const buffers = [];\n",
              "      let downloaded = 0;\n",
              "\n",
              "      const channel = await google.colab.kernel.comms.open(id);\n",
              "      // Send a message to notify the kernel that we're ready.\n",
              "      channel.send({})\n",
              "\n",
              "      for await (const message of channel.messages) {\n",
              "        // Send a message to notify the kernel that we're ready.\n",
              "        channel.send({})\n",
              "        if (message.buffers) {\n",
              "          for (const buffer of message.buffers) {\n",
              "            buffers.push(buffer);\n",
              "            downloaded += buffer.byteLength;\n",
              "            progress.value = downloaded;\n",
              "          }\n",
              "        }\n",
              "      }\n",
              "      const blob = new Blob(buffers, {type: 'application/binary'});\n",
              "      const a = document.createElement('a');\n",
              "      a.href = window.URL.createObjectURL(blob);\n",
              "      a.download = filename;\n",
              "      div.appendChild(a);\n",
              "      a.click();\n",
              "      div.remove();\n",
              "    }\n",
              "  "
            ]
          },
          "metadata": {}
        },
        {
          "output_type": "display_data",
          "data": {
            "text/plain": [
              "<IPython.core.display.Javascript object>"
            ],
            "application/javascript": [
              "download(\"download_7046a195-5db3-4b67-a7a3-06cf0a398cba\", \"bitcoin_price_over_time.png\", 35159)"
            ]
          },
          "metadata": {}
        }
      ]
    },
    {
      "cell_type": "code",
      "source": [
        "#Save summary statisitics to a CSV file\n",
        "df.describe().to_csv('eda_summary_statistics.csv')\n",
        "print(\"Summary statistics saved to CSV\")\n"
      ],
      "metadata": {
        "colab": {
          "base_uri": "https://localhost:8080/"
        },
        "id": "shajfZRLzMw0",
        "outputId": "0e95d2c3-4c2f-4c77-dbe1-5e182b07d0f9"
      },
      "execution_count": null,
      "outputs": [
        {
          "output_type": "stream",
          "name": "stdout",
          "text": [
            "Summary statistics saved to CSV\n"
          ]
        }
      ]
    },
    {
      "cell_type": "code",
      "source": [
        "from google.colab import files\n",
        "files.download('eda_summary_statistics.csv')"
      ],
      "metadata": {
        "colab": {
          "base_uri": "https://localhost:8080/",
          "height": 17
        },
        "id": "0zRNpPr4zg3y",
        "outputId": "76a6750a-1495-4770-f988-6beb0bbfb548"
      },
      "execution_count": null,
      "outputs": [
        {
          "output_type": "display_data",
          "data": {
            "text/plain": [
              "<IPython.core.display.Javascript object>"
            ],
            "application/javascript": [
              "\n",
              "    async function download(id, filename, size) {\n",
              "      if (!google.colab.kernel.accessAllowed) {\n",
              "        return;\n",
              "      }\n",
              "      const div = document.createElement('div');\n",
              "      const label = document.createElement('label');\n",
              "      label.textContent = `Downloading \"${filename}\": `;\n",
              "      div.appendChild(label);\n",
              "      const progress = document.createElement('progress');\n",
              "      progress.max = size;\n",
              "      div.appendChild(progress);\n",
              "      document.body.appendChild(div);\n",
              "\n",
              "      const buffers = [];\n",
              "      let downloaded = 0;\n",
              "\n",
              "      const channel = await google.colab.kernel.comms.open(id);\n",
              "      // Send a message to notify the kernel that we're ready.\n",
              "      channel.send({})\n",
              "\n",
              "      for await (const message of channel.messages) {\n",
              "        // Send a message to notify the kernel that we're ready.\n",
              "        channel.send({})\n",
              "        if (message.buffers) {\n",
              "          for (const buffer of message.buffers) {\n",
              "            buffers.push(buffer);\n",
              "            downloaded += buffer.byteLength;\n",
              "            progress.value = downloaded;\n",
              "          }\n",
              "        }\n",
              "      }\n",
              "      const blob = new Blob(buffers, {type: 'application/binary'});\n",
              "      const a = document.createElement('a');\n",
              "      a.href = window.URL.createObjectURL(blob);\n",
              "      a.download = filename;\n",
              "      div.appendChild(a);\n",
              "      a.click();\n",
              "      div.remove();\n",
              "    }\n",
              "  "
            ]
          },
          "metadata": {}
        },
        {
          "output_type": "display_data",
          "data": {
            "text/plain": [
              "<IPython.core.display.Javascript object>"
            ],
            "application/javascript": [
              "download(\"download_744d3266-8366-4b32-8670-5b9b8b483ea3\", \"eda_summary_statistics.csv\", 1236)"
            ]
          },
          "metadata": {}
        }
      ]
    },
    {
      "cell_type": "code",
      "source": [],
      "metadata": {
        "id": "tFZgGQgkzlZK"
      },
      "execution_count": null,
      "outputs": []
    }
  ]
}